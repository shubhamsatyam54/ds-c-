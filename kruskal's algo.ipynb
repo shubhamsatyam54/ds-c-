{
 "cells": [
  {
   "cell_type": "code",
   "execution_count": 1,
   "id": "according-processor",
   "metadata": {},
   "outputs": [],
   "source": [
    "#include <bits/stdc++.h>\n",
    "using namespace std;"
   ]
  },
  {
   "cell_type": "code",
   "execution_count": 2,
   "id": "fitted-bones",
   "metadata": {},
   "outputs": [],
   "source": [
    "class Edge {\n",
    "public:\n",
    "    int src, dest, weight;\n",
    "};"
   ]
  },
  {
   "cell_type": "code",
   "execution_count": 3,
   "id": "operational-helena",
   "metadata": {},
   "outputs": [],
   "source": [
    "class Graph {\n",
    "public:\n",
    "    int V, E;\n",
    "    Edge* edge;\n",
    "};"
   ]
  },
  {
   "cell_type": "code",
   "execution_count": 4,
   "id": "governmental-handling",
   "metadata": {},
   "outputs": [],
   "source": [
    "Graph* createGraph(int V, int E)\n",
    "{\n",
    "    Graph* graph = new Graph;\n",
    "    graph->V = V;\n",
    "    graph->E = E;\n",
    " \n",
    "    graph->edge = new Edge[E];\n",
    " \n",
    "    return graph;\n",
    "}"
   ]
  },
  {
   "cell_type": "code",
   "execution_count": 5,
   "id": "confident-consortium",
   "metadata": {},
   "outputs": [],
   "source": [
    "class subset {\n",
    "public:\n",
    "    int parent;\n",
    "    int rank;\n",
    "};"
   ]
  },
  {
   "cell_type": "code",
   "execution_count": 8,
   "id": "higher-browser",
   "metadata": {},
   "outputs": [],
   "source": [
    "int find(subset subsets[], int i)\n",
    "{\n",
    "    if (subsets[i].parent != i)\n",
    "        subsets[i].parent\n",
    "            = find(subsets, subsets[i].parent);\n",
    " \n",
    "    return subsets[i].parent;\n",
    "}"
   ]
  },
  {
   "cell_type": "code",
   "execution_count": 9,
   "id": "another-trail",
   "metadata": {},
   "outputs": [],
   "source": [
    "void Union(subset subsets[], int x, int y)\n",
    "{\n",
    "    int xroot = find(subsets, x);\n",
    "    int yroot = find(subsets, y);\n",
    " \n",
    "    if (subsets[xroot].rank < subsets[yroot].rank)\n",
    "        subsets[xroot].parent = yroot;\n",
    "    else if (subsets[xroot].rank > subsets[yroot].rank)\n",
    "        subsets[yroot].parent = xroot;\n",
    " \n",
    "    else {\n",
    "        subsets[yroot].parent = xroot;\n",
    "        subsets[xroot].rank++;\n",
    "    }\n",
    "}"
   ]
  },
  {
   "cell_type": "code",
   "execution_count": 10,
   "id": "stretch-prevention",
   "metadata": {},
   "outputs": [],
   "source": [
    "int myComp(const void* a, const void* b)\n",
    "{\n",
    "    Edge* a1 = (Edge*)a;\n",
    "    Edge* b1 = (Edge*)b;\n",
    "    return a1->weight > b1->weight;\n",
    "}"
   ]
  },
  {
   "cell_type": "code",
   "execution_count": null,
   "id": "resistant-excuse",
   "metadata": {},
   "outputs": [],
   "source": [
    "void KruskalMST(Graph* graph)\n",
    "{\n",
    "    int V = graph->V;\n",
    "    Edge result[V]; \n",
    "    int e = 0;\n",
    "    int i = 0; \n",
    "    qsort(graph->edge, graph->E, sizeof(graph->edge[0]),\n",
    "          myComp);\n",
    "\n",
    "    subset* subsets = new subset[(V * sizeof(subset))];\n",
    " \n",
    "   \n",
    "    for (int v = 0; v < V; ++v)\n",
    "    {\n",
    "        subsets[v].parent = v;\n",
    "        subsets[v].rank = 0;\n",
    "    }\n",
    " \n",
    "  \n",
    "    while (e < V - 1 && i < graph->E)\n",
    "    {\n",
    "        \n",
    "        Edge next_edge = graph->edge[i++];\n",
    "        int x = find(subsets, next_edge.src);\n",
    "        int y = find(subsets, next_edge.dest);\n",
    "        if (x != y) {\n",
    "            result[e++] = next_edge;\n",
    "            Union(subsets, x, y);\n",
    "        }\n",
    "    }\n",
    "    cout << \"Following are the edges in the constructed \"\n",
    "            \"MST\\n\";\n",
    "    int minimumCost = 0;\n",
    "    for (i = 0; i < e; ++i)\n",
    "    {\n",
    "        cout << result[i].src << \" -- \" << result[i].dest\n",
    "             << \" == \" << result[i].weight << endl;\n",
    "        minimumCost = minimumCost + result[i].weight;\n",
    "    }\n",
    "    cout << \"Minimum Cost Spanning Tree: \" << minimumCost<< endl;\n",
    "}\n",
    " "
   ]
  }
 ],
 "metadata": {
  "kernelspec": {
   "display_name": "C++17",
   "language": "C++17",
   "name": "xcpp17"
  },
  "language_info": {
   "codemirror_mode": "text/x-c++src",
   "file_extension": ".cpp",
   "mimetype": "text/x-c++src",
   "name": "c++",
   "version": "17"
  }
 },
 "nbformat": 4,
 "nbformat_minor": 5
}
