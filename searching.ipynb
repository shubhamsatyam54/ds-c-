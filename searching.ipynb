{
 "cells": [
  {
   "cell_type": "code",
   "execution_count": 1,
   "id": "limited-orleans",
   "metadata": {},
   "outputs": [],
   "source": [
    "#include <iostream>\n",
    "#include <string>\n",
    "using namespace std;"
   ]
  },
  {
   "cell_type": "markdown",
   "id": "infrared-success",
   "metadata": {},
   "source": [
    "# Linear search"
   ]
  },
  {
   "cell_type": "code",
   "execution_count": 11,
   "id": "regular-wagner",
   "metadata": {},
   "outputs": [],
   "source": [
    "void linear_srh( int arr[],int size, int element){\n",
    "    int indx=-1;\n",
    "    for(int i=0;i<size;i++){\n",
    "        if(arr[i]==element){\n",
    "            indx=i;\n",
    "            break;\n",
    "        }\n",
    "    }\n",
    "    if(indx==-1){\n",
    "        cout<<\"element \"<< element<< \" not found\"<<endl;\n",
    "    }\n",
    "    else{\n",
    "         cout<<\"element \"<< element<< \" found at postion : \"<<indx+1<< endl;\n",
    "    }\n",
    "}"
   ]
  },
  {
   "cell_type": "code",
   "execution_count": 12,
   "id": "interstate-mapping",
   "metadata": {},
   "outputs": [
    {
     "name": "stdout",
     "output_type": "stream",
     "text": [
      "element 4 found at postion : 4\n",
      "element 99 not found\n"
     ]
    }
   ],
   "source": [
    "int arr[]={1,5,8,4,6};\n",
    "linear_srh(arr,5,4);\n",
    "linear_srh(arr,5,99);"
   ]
  },
  {
   "cell_type": "code",
   "execution_count": null,
   "id": "figured-tuesday",
   "metadata": {},
   "outputs": [],
   "source": []
  }
 ],
 "metadata": {
  "kernelspec": {
   "display_name": "C++17",
   "language": "C++17",
   "name": "xcpp17"
  },
  "language_info": {
   "codemirror_mode": "text/x-c++src",
   "file_extension": ".cpp",
   "mimetype": "text/x-c++src",
   "name": "c++",
   "version": "17"
  }
 },
 "nbformat": 4,
 "nbformat_minor": 5
}
