{
 "cells": [
  {
   "cell_type": "code",
   "execution_count": 1,
   "id": "authentic-sacrifice",
   "metadata": {},
   "outputs": [],
   "source": [
    "#include <iostream>\n",
    "using namespace std;"
   ]
  },
  {
   "cell_type": "code",
   "execution_count": 2,
   "id": "tropical-gibson",
   "metadata": {},
   "outputs": [],
   "source": [
    "class Node{\n",
    "    public:\n",
    "    int data;\n",
    "    Node *left;\n",
    "    Node *right;\n",
    "    Node(int x){\n",
    "        data=x;\n",
    "        left=NULL;\n",
    "        right=NULL;\n",
    "    }\n",
    "}"
   ]
  },
  {
   "cell_type": "code",
   "execution_count": 3,
   "id": "hydraulic-chicago",
   "metadata": {},
   "outputs": [],
   "source": [
    "class tree{\n",
    "    public:\n",
    "    Node *root=NULL;\n",
    "    void insert(int x);\n",
    "    void search(int x);\n",
    "}"
   ]
  },
  {
   "cell_type": "code",
   "execution_count": 4,
   "id": "distinct-webster",
   "metadata": {},
   "outputs": [],
   "source": [
    "void tree::insert(int x){\n",
    "    Node *dt=new Node(x);\n",
    "    if(root==NULL){\n",
    "        root=dt;\n",
    "    }\n",
    "    else{\n",
    "            Node* temp=root; \n",
    "            while(temp!=NULL){\n",
    "            if(temp->data==x){\n",
    "                cout<<\"Data already exist\";\n",
    "                return;\n",
    "            }\n",
    "            else if(temp->data>x){\n",
    "                if(temp->left==NULL){\n",
    "                   temp->left=dt;\n",
    "                    return;\n",
    "                }\n",
    "                else\n",
    "                temp=temp->left;\n",
    "            }\n",
    "            else if(temp->data<x){\n",
    "                if(temp->right==NULL){\n",
    "                    temp->right=dt;\n",
    "                    return;\n",
    "                }\n",
    "                else\n",
    "                temp=temp->right;\n",
    "            }\n",
    "        }\n",
    "    }\n",
    "}"
   ]
  },
  {
   "cell_type": "code",
   "execution_count": 5,
   "id": "synthetic-association",
   "metadata": {},
   "outputs": [],
   "source": [
    "void tree::search(int x){\n",
    "            Node* temp=root; \n",
    "            while(temp!=NULL){\n",
    "            if(temp->data==x){\n",
    "                cout<<\"Data Found\";\n",
    "                return;\n",
    "            }\n",
    "            else if(temp->data>x){\n",
    "                temp=temp->left;\n",
    "            }\n",
    "            else if(temp->data<x){\n",
    "                temp=temp->right;\n",
    "            }\n",
    "        }\n",
    "    cout<<\"Data Not Found\";\n",
    "}"
   ]
  },
  {
   "cell_type": "code",
   "execution_count": 6,
   "id": "therapeutic-bridges",
   "metadata": {},
   "outputs": [],
   "source": [
    "tree t;\n",
    "t.insert(5);\n",
    "t.insert(7);\n",
    "t.insert(2);\n",
    "t.insert(9);"
   ]
  },
  {
   "cell_type": "code",
   "execution_count": 7,
   "id": "anonymous-uncertainty",
   "metadata": {},
   "outputs": [
    {
     "name": "stdout",
     "output_type": "stream",
     "text": [
      "Data Found"
     ]
    }
   ],
   "source": [
    "t.search(5);"
   ]
  },
  {
   "cell_type": "code",
   "execution_count": 8,
   "id": "center-conditioning",
   "metadata": {},
   "outputs": [
    {
     "name": "stdout",
     "output_type": "stream",
     "text": [
      "Data Not Found"
     ]
    }
   ],
   "source": [
    "t.search(1);"
   ]
  },
  {
   "cell_type": "markdown",
   "id": "complete-export",
   "metadata": {},
   "source": [
    "# traversal"
   ]
  },
  {
   "cell_type": "markdown",
   "id": "structural-hypothesis",
   "metadata": {},
   "source": [
    "### inorder"
   ]
  },
  {
   "cell_type": "code",
   "execution_count": null,
   "id": "packed-mineral",
   "metadata": {},
   "outputs": [],
   "source": [
    "void tree"
   ]
  }
 ],
 "metadata": {
  "kernelspec": {
   "display_name": "C++17",
   "language": "C++17",
   "name": "xcpp17"
  },
  "language_info": {
   "codemirror_mode": "text/x-c++src",
   "file_extension": ".cpp",
   "mimetype": "text/x-c++src",
   "name": "c++",
   "version": "17"
  }
 },
 "nbformat": 4,
 "nbformat_minor": 5
}
