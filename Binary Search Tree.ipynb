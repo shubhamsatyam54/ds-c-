{
 "cells": [
  {
   "cell_type": "code",
   "execution_count": 36,
   "id": "referenced-parks",
   "metadata": {},
   "outputs": [],
   "source": [
    "#include <iostream>\n",
    "using namespace std;"
   ]
  },
  {
   "cell_type": "code",
   "execution_count": 37,
   "id": "certified-filename",
   "metadata": {},
   "outputs": [],
   "source": [
    "class Node{\n",
    "    public:\n",
    "    int data;\n",
    "    Node *left;\n",
    "    Node *right;\n",
    "    Node(int x){\n",
    "        data=x;\n",
    "        left=NULL;\n",
    "        right=NULL;\n",
    "    }\n",
    "}"
   ]
  },
  {
   "cell_type": "code",
   "execution_count": 42,
   "id": "comparable-detail",
   "metadata": {},
   "outputs": [],
   "source": [
    "class tree{\n",
    "    public:\n",
    "    static Node *root;\n",
    "    tree(){\n",
    "        root=NULL;\n",
    "    }\n",
    "    void insert(int x);\n",
    "    void search(int x);\n",
    "    void inorder(Node *root);\n",
    "}"
   ]
  },
  {
   "cell_type": "code",
   "execution_count": 39,
   "id": "constant-labor",
   "metadata": {},
   "outputs": [],
   "source": [
    "void tree::insert(int x){\n",
    "    Node *dt=new Node(x);\n",
    "    if(root==NULL){\n",
    "        root=dt;\n",
    "    }\n",
    "    else{\n",
    "            Node* temp=root; \n",
    "            while(temp!=NULL){\n",
    "            if(temp->data==x){\n",
    "                cout<<\"Data already exist\";\n",
    "                return;\n",
    "            }\n",
    "            else if(temp->data>x){\n",
    "                if(temp->left==NULL){\n",
    "                   temp->left=dt;\n",
    "                    return;\n",
    "                }\n",
    "                else\n",
    "                temp=temp->left;\n",
    "            }\n",
    "            else if(temp->data<x){\n",
    "                if(temp->right==NULL){\n",
    "                    temp->right=dt;\n",
    "                    return;\n",
    "                }\n",
    "                else\n",
    "                temp=temp->right;\n",
    "            }\n",
    "        }\n",
    "    }\n",
    "}"
   ]
  },
  {
   "cell_type": "code",
   "execution_count": 40,
   "id": "spanish-writing",
   "metadata": {},
   "outputs": [],
   "source": [
    "void tree::search(int x){\n",
    "            Node* temp=root; \n",
    "            while(temp!=NULL){\n",
    "            if(temp->data==x){\n",
    "                cout<<\"Data Found\";\n",
    "                return;\n",
    "            }\n",
    "            else if(temp->data>x){\n",
    "                temp=temp->left;\n",
    "            }\n",
    "            else if(temp->data<x){\n",
    "                temp=temp->right;\n",
    "            }\n",
    "        }\n",
    "    cout<<\"Data Not Found\";\n",
    "}"
   ]
  },
  {
   "cell_type": "markdown",
   "id": "bulgarian-blind",
   "metadata": {},
   "source": [
    "# traversal"
   ]
  },
  {
   "cell_type": "markdown",
   "id": "ideal-pepper",
   "metadata": {},
   "source": [
    "### inorder"
   ]
  },
  {
   "cell_type": "code",
   "execution_count": 33,
   "id": "innocent-assignment",
   "metadata": {
    "scrolled": true
   },
   "outputs": [
    {
     "name": "stderr",
     "output_type": "stream",
     "text": [
      "input_line_42:1:6: error: use of undeclared identifier 'tree'\n",
      "void tree::inorder(root){\n",
      "     ^\n",
      "input_line_42:1:20: error: unknown type name 'root'\n",
      "void tree::inorder(root){\n",
      "                   ^\n"
     ]
    },
    {
     "ename": "Interpreter Error",
     "evalue": "",
     "output_type": "error",
     "traceback": [
      "Interpreter Error: "
     ]
    }
   ],
   "source": [
    "void tree::inorder(root){\n",
    "     if (temp == NULL)\n",
    "        return;\n",
    " \n",
    "    inorder(temp->left);\n",
    "    cout << temp->data << \" \";\n",
    "    inorder(temp->right);\n",
    "    \n",
    "}"
   ]
  },
  {
   "cell_type": "code",
   "execution_count": 41,
   "id": "furnished-texture",
   "metadata": {},
   "outputs": [
    {
     "name": "stderr",
     "output_type": "stream",
     "text": [
      "IncrementalExecutor::executeFunction: symbol '_ZN12__cling_N5284tree4rootE' unresolved while linking function '_GLOBAL__sub_I_cling_module_44'!\n",
      "You are probably missing the definition of __cling_N528::tree::root\n",
      "Maybe you need to load the corresponding shared library?\n",
      "input_line_49:9:16: warning: invalid memory pointer passed to a callee:\n",
      "            if(temp->data==x){\n",
      "               ^~~~\n"
     ]
    },
    {
     "ename": "Interpreter Exception",
     "evalue": "",
     "output_type": "error",
     "traceback": [
      "Interpreter Exception: "
     ]
    }
   ],
   "source": [
    "tree t;\n",
    "t.insert(5);\n",
    "t.insert(7);\n",
    "t.insert(2);\n",
    "t.insert(9);"
   ]
  },
  {
   "cell_type": "code",
   "execution_count": 28,
   "id": "fifth-season",
   "metadata": {},
   "outputs": [
    {
     "name": "stderr",
     "output_type": "stream",
     "text": [
      "IncrementalExecutor::executeFunction: symbol '_ZN12__cling_N5184tree4rootE' unresolved while linking [cling interface function]!\n",
      "You are probably missing the definition of __cling_N518::tree::root\n",
      "Maybe you need to load the corresponding shared library?\n"
     ]
    },
    {
     "ename": "Interpreter Error",
     "evalue": "",
     "output_type": "error",
     "traceback": [
      "Interpreter Error: "
     ]
    }
   ],
   "source": [
    "t.search(5);"
   ]
  },
  {
   "cell_type": "code",
   "execution_count": 8,
   "id": "useful-tooth",
   "metadata": {},
   "outputs": [
    {
     "name": "stdout",
     "output_type": "stream",
     "text": [
      "Data Not Found"
     ]
    }
   ],
   "source": [
    "t.search(1);"
   ]
  },
  {
   "cell_type": "code",
   "execution_count": null,
   "id": "anonymous-green",
   "metadata": {},
   "outputs": [],
   "source": []
  }
 ],
 "metadata": {
  "kernelspec": {
   "display_name": "C++17",
   "language": "C++17",
   "name": "xcpp17"
  },
  "language_info": {
   "codemirror_mode": "text/x-c++src",
   "file_extension": ".cpp",
   "mimetype": "text/x-c++src",
   "name": "c++",
   "version": "17"
  }
 },
 "nbformat": 4,
 "nbformat_minor": 5
}
