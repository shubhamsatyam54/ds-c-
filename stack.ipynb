{
 "cells": [
  {
   "cell_type": "code",
   "execution_count": 17,
   "id": "objective-record",
   "metadata": {},
   "outputs": [],
   "source": [
    "#include <iostream>\n",
    "#include <string>\n",
    "using namespace std;"
   ]
  },
  {
   "cell_type": "code",
   "execution_count": 10,
   "id": "egyptian-easter",
   "metadata": {},
   "outputs": [],
   "source": [
    "class Stack{\n",
    "    public:\n",
    "    int top;\n",
    "    int max;;\n",
    "    int* data;\n",
    "    Stack(int x){\n",
    "        data = new int;\n",
    "        top=-1;\n",
    "        max=x;\n",
    "\n",
    "    };\n",
    "    bool push(int x);\n",
    "    int pop();\n",
    "    int peek();\n",
    "    bool isEmpty();\n",
    "};"
   ]
  },
  {
   "cell_type": "code",
   "execution_count": 11,
   "id": "raised-external",
   "metadata": {},
   "outputs": [],
   "source": [
    "bool Stack::push(int x){\n",
    "    if(top>=max-1){\n",
    "        cout<<\"Stack Overflow Error.\"<<endl;\n",
    "        return false;\n",
    "    }\n",
    "    else{\n",
    "        data[++top]=x;\n",
    "        cout<<\"Added data succesfully\"<<endl;\n",
    "        return true;\n",
    "    }\n",
    "};"
   ]
  },
  {
   "cell_type": "code",
   "execution_count": 12,
   "id": "increased-calculation",
   "metadata": {},
   "outputs": [],
   "source": [
    "bool Stack::isEmpty(){\n",
    "   return(top<0);\n",
    "};"
   ]
  },
  {
   "cell_type": "code",
   "execution_count": 13,
   "id": "surprising-clearing",
   "metadata": {},
   "outputs": [],
   "source": [
    "int Stack::peek(){\n",
    "    if(top<0){\n",
    "        cout<<\"Stack is empty\"<<endl;\n",
    "        return -1;\n",
    "    } \n",
    "    else{\n",
    "        return data[top];\n",
    "    }\n",
    "}"
   ]
  },
  {
   "cell_type": "code",
   "execution_count": 14,
   "id": "strange-kitty",
   "metadata": {},
   "outputs": [],
   "source": [
    "int Stack::pop(){\n",
    "     if(top<0){\n",
    "        cout<<\"Stack Underflow\"<<endl;\n",
    "        return -1;\n",
    "    } \n",
    "     else{\n",
    "        return data[top--];\n",
    "    }\n",
    "}"
   ]
  },
  {
   "cell_type": "code",
   "execution_count": 15,
   "id": "natural-answer",
   "metadata": {},
   "outputs": [
    {
     "name": "stdout",
     "output_type": "stream",
     "text": [
      "Added data succesfully\n",
      "Added data succesfully\n",
      "Added data succesfully\n",
      "Added data succesfully\n",
      "Stack Overflow Error.\n",
      "8 Popped\n",
      "7 top element\n",
      "Is empty 0\n"
     ]
    }
   ],
   "source": [
    "Stack st(4);\n",
    "st.push(5);\n",
    "st.push(6);\n",
    "st.push(7);\n",
    "st.push(8);\n",
    "st.push(9);\n",
    "cout<<st.pop()<<\" Popped\"<<endl;\n",
    "cout<<st.peek()<<\" top element\"<<endl;\n",
    "cout<<\"Is empty \"<<st.isEmpty()<<endl;"
   ]
  },
  {
   "cell_type": "code",
   "execution_count": null,
   "id": "guided-retailer",
   "metadata": {},
   "outputs": [],
   "source": [
    "cout<<\" All element \"<<endl;\n",
    "while(!st.isEmpty()){\n",
    "    cout<<st.peek()<<\" \"<<endl;\n",
    "    st.pop();\n",
    "}"
   ]
  },
  {
   "cell_type": "code",
   "execution_count": null,
   "id": "genetic-chicken",
   "metadata": {},
   "outputs": [],
   "source": []
  }
 ],
 "metadata": {
  "kernelspec": {
   "display_name": "C++17",
   "language": "C++17",
   "name": "xcpp17"
  },
  "language_info": {
   "codemirror_mode": "text/x-c++src",
   "file_extension": ".cpp",
   "mimetype": "text/x-c++src",
   "name": "c++",
   "version": "17"
  }
 },
 "nbformat": 4,
 "nbformat_minor": 5
}
