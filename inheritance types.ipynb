{
 "cells": [
  {
   "cell_type": "code",
   "execution_count": 1,
   "id": "challenging-frederick",
   "metadata": {},
   "outputs": [],
   "source": [
    "#include <iostream>\n",
    "#include <string>\n",
    "using namespace std;"
   ]
  },
  {
   "cell_type": "markdown",
   "id": "empty-subdivision",
   "metadata": {},
   "source": [
    "##### single inheritence"
   ]
  },
  {
   "cell_type": "code",
   "execution_count": 2,
   "id": "respective-settlement",
   "metadata": {},
   "outputs": [],
   "source": [
    "class laptop{\n",
    "    public:\n",
    "    int price;\n",
    "    int ram;\n",
    "}"
   ]
  },
  {
   "cell_type": "code",
   "execution_count": 3,
   "id": "stylish-table",
   "metadata": {},
   "outputs": [],
   "source": [
    "class device : public laptop{\n",
    "    public:\n",
    "    void display() {\n",
    "        cout <<\"\\nThis is a device\";\n",
    "    }\n",
    "}"
   ]
  },
  {
   "cell_type": "code",
   "execution_count": 4,
   "id": "italian-dependence",
   "metadata": {},
   "outputs": [
    {
     "name": "stdout",
     "output_type": "stream",
     "text": [
      "device cost = 40000\n",
      "device ram = 5\n",
      "This is a device"
     ]
    }
   ],
   "source": [
    "device obj1;\n",
    "obj1.price=40000;\n",
    "obj1.ram=5;\n",
    "cout <<\"device cost = \"<<obj1.price;\n",
    "cout <<\"\\ndevice ram = \"<<obj1.ram;\n",
    "obj1.display()"
   ]
  },
  {
   "cell_type": "markdown",
   "id": "documentary-indian",
   "metadata": {},
   "source": [
    "##### multiple inheritance"
   ]
  },
  {
   "cell_type": "code",
   "execution_count": 5,
   "id": "accomplished-volleyball",
   "metadata": {},
   "outputs": [],
   "source": [
    "class laptop{\n",
    "    protected:\n",
    "    int cost=40000;\n",
    "    int storage = 512;\n",
    "    int ram=8;\n",
    "    string type=\"gaming laptop\";\n",
    "    void laptop_details()\n",
    "    {\n",
    "        cout << \"laptop details : \" << endl; \n",
    "        cout << \"ram : \" << ram << endl; \n",
    "        cout << \"storage : \" << storage << endl;\n",
    "        cout << \"laptop  type : \" << type << endl;\n",
    "        cout << \"cost : \" << cost << endl; \n",
    "    }\n",
    "};"
   ]
  },
  {
   "cell_type": "code",
   "execution_count": 6,
   "id": "applied-belief",
   "metadata": {},
   "outputs": [],
   "source": [
    "class mobile{\n",
    "    protected:\n",
    "    int x;\n",
    "    int cost=10000;\n",
    "    int storage = 64;\n",
    "    int ram=4;\n",
    "    string display = \"amoled\";\n",
    "    void mobile_details(){\n",
    "        cout << \"mobile details : \" << endl; \n",
    "        cout << \"ram : \" << ram << endl; \n",
    "        cout << \"storage : \" << storage << endl;\n",
    "        cout << \"display type : \" << display << endl;\n",
    "        cout << \"cost : \" << cost << endl; \n",
    "    }\n",
    "    \n",
    "};"
   ]
  },
  {
   "cell_type": "code",
   "execution_count": 7,
   "id": "leading-footage",
   "metadata": {},
   "outputs": [],
   "source": [
    "class device : public laptop, public mobile{\n",
    "    public:\n",
    "    void display(){\n",
    "        mobile_details();\n",
    "        cout  << endl;\n",
    "        laptop_details();\n",
    "    }\n",
    "    \n",
    "};"
   ]
  },
  {
   "cell_type": "code",
   "execution_count": 8,
   "id": "hired-bradford",
   "metadata": {},
   "outputs": [
    {
     "name": "stdout",
     "output_type": "stream",
     "text": [
      "mobile details : \n",
      "ram : 4\n",
      "storage : 64\n",
      "display type : amoled\n",
      "cost : 10000\n",
      "\n",
      "laptop details : \n",
      "ram : 8\n",
      "storage : 512\n",
      "laptop  type : gaming laptop\n",
      "cost : 40000\n"
     ]
    }
   ],
   "source": [
    "device dvc;\n",
    "dvc.display();"
   ]
  },
  {
   "cell_type": "markdown",
   "id": "thermal-insider",
   "metadata": {},
   "source": [
    "##### mutlilevel inheritance"
   ]
  },
  {
   "cell_type": "code",
   "execution_count": 9,
   "id": "latin-clock",
   "metadata": {},
   "outputs": [],
   "source": [
    "class house_interior{\n",
    "    protected:\n",
    "    int cupboards = 5;\n",
    "    int beds = 6;\n",
    "};"
   ]
  },
  {
   "cell_type": "code",
   "execution_count": 10,
   "id": "hollow-church",
   "metadata": {},
   "outputs": [],
   "source": [
    "class house_exterior : public house_interior{\n",
    "    protected:\n",
    "    string type = \"2BHK\";\n",
    "    int cost = 5000000;\n",
    "};"
   ]
  },
  {
   "cell_type": "code",
   "execution_count": 11,
   "id": "buried-chrome",
   "metadata": {},
   "outputs": [],
   "source": [
    "class house_details : public house_exterior{\n",
    "    public:\n",
    "    void display(){\n",
    "        cout << \"No. of cupboards : \" << cupboards << endl;\n",
    "        cout << \"No. of bed : \" << beds << endl; \n",
    "        cout << \"Types : \" << type << endl; \n",
    "        cout << \"Cost : \" << cost << endl; \n",
    "    }\n",
    "};"
   ]
  },
  {
   "cell_type": "code",
   "execution_count": 12,
   "id": "nervous-federal",
   "metadata": {},
   "outputs": [
    {
     "name": "stdout",
     "output_type": "stream",
     "text": [
      "No. of cupboards : 5\n",
      "No. of bed : 6\n",
      "Types : 2BHK\n",
      "Cost : 5000000\n"
     ]
    }
   ],
   "source": [
    "house_details home;\n",
    "home.display();"
   ]
  },
  {
   "cell_type": "markdown",
   "id": "concerned-indie",
   "metadata": {},
   "source": [
    "##### hierarchical inheritance"
   ]
  },
  {
   "cell_type": "code",
   "execution_count": 24,
   "id": "specific-offset",
   "metadata": {},
   "outputs": [],
   "source": [
    "class feature{\n",
    "    public:\n",
    "    string processor;\n",
    "    int storage;\n",
    "    int ram;\n",
    "    int screen_size;\n",
    "    int cost;\n",
    "};"
   ]
  },
  {
   "cell_type": "code",
   "execution_count": 25,
   "id": "short-merchandise",
   "metadata": {},
   "outputs": [],
   "source": [
    "class mobile_details : public feature{\n",
    "    public:\n",
    "    string screen_type;\n",
    "};"
   ]
  },
  {
   "cell_type": "code",
   "execution_count": 26,
   "id": "young-bidding",
   "metadata": {},
   "outputs": [],
   "source": [
    "class laptop_details : public feature{\n",
    "    public:\n",
    "    string type;\n",
    "};"
   ]
  },
  {
   "cell_type": "code",
   "execution_count": 27,
   "id": "falling-browser",
   "metadata": {},
   "outputs": [],
   "source": [
    "class mobile : public mobile_details{\n",
    "    public:\n",
    "\n",
    "    void display_mobile_details(){\n",
    "        cout << \"mobile details : \" << endl; \n",
    "        cout << \"ram : \" << ram << endl; \n",
    "        cout << \"storage : \" << storage << endl;\n",
    "        cout << \"display type : \" << screen_type << endl;\n",
    "        cout << \"display size : \" << screen_size << endl;\n",
    "        cout << \"cost : \" << cost << endl; \n",
    "    }\n",
    "};"
   ]
  },
  {
   "cell_type": "code",
   "execution_count": 28,
   "id": "convinced-google",
   "metadata": {},
   "outputs": [],
   "source": [
    "class laptop : public laptop_details{\n",
    "    public:\n",
    "     void display_laptop_details()\n",
    "    {\n",
    "        cout << \"laptop details : \" << endl; \n",
    "        cout << \"ram : \" << ram << endl; \n",
    "        cout << \"storage : \" << storage << endl;\n",
    "        cout << \"laptop  type : \" << type << endl;\n",
    "        cout << \"display size : \" << screen_size << endl;\n",
    "        cout << \"cost : \" << cost << endl; \n",
    "    }\n",
    "};"
   ]
  },
  {
   "cell_type": "code",
   "execution_count": 30,
   "id": "desirable-ozone",
   "metadata": {},
   "outputs": [
    {
     "name": "stdout",
     "output_type": "stream",
     "text": [
      "mobile details : \n",
      "ram : 4\n",
      "storage : 64\n",
      "display type : amoled\n",
      "display size : 6\n",
      "cost : 12000\n"
     ]
    }
   ],
   "source": [
    "mobile phone;\n",
    "phone.processor=\"snapdragon\";\n",
    "phone.storage=64;\n",
    "phone.ram=4;\n",
    "phone.screen_size=6;\n",
    "phone.cost=12000;\n",
    "phone.screen_type=\"amoled\";\n",
    "phone.display_mobile_details();\n"
   ]
  },
  {
   "cell_type": "code",
   "execution_count": 32,
   "id": "registered-bennett",
   "metadata": {},
   "outputs": [
    {
     "name": "stdout",
     "output_type": "stream",
     "text": [
      "laptop details : \n",
      "ram : 8\n",
      "storage : 512\n",
      "laptop  type : gaming\n",
      "display size : 15\n",
      "cost : 68000\n"
     ]
    }
   ],
   "source": [
    "laptop lappy;\n",
    "lappy.processor=\"intel\";\n",
    "lappy.storage=512;\n",
    "lappy.ram=8;\n",
    "lappy.screen_size=15;\n",
    "lappy.cost=68000;\n",
    "lappy.type=\"gaming\";\n",
    "lappy.display_laptop_details();"
   ]
  },
  {
   "cell_type": "markdown",
   "id": "adult-omega",
   "metadata": {},
   "source": [
    "##### hybrid inheritance"
   ]
  },
  {
   "cell_type": "code",
   "execution_count": 37,
   "id": "conservative-canon",
   "metadata": {},
   "outputs": [],
   "source": [
    "class house_interior{\n",
    "    protected:\n",
    "    int cupboards = 5;\n",
    "    int beds = 6;\n",
    "};"
   ]
  },
  {
   "cell_type": "code",
   "execution_count": 38,
   "id": "structured-surface",
   "metadata": {},
   "outputs": [],
   "source": [
    "class house_exterior : public house_interior{\n",
    "    protected:\n",
    "    string type = \"2BHK\";\n",
    "    bool parking_space=true;\n",
    "};"
   ]
  },
  {
   "cell_type": "code",
   "execution_count": 45,
   "id": "compound-reliance",
   "metadata": {},
   "outputs": [],
   "source": [
    "class house_overview :  public house_exterior{\n",
    "    public:\n",
    "    string city=\"Delhi\";\n",
    "};"
   ]
  },
  {
   "cell_type": "code",
   "execution_count": 46,
   "id": "controversial-piano",
   "metadata": {},
   "outputs": [],
   "source": [
    "class costing{\n",
    "    public:\n",
    "    int cost = 5000000;\n",
    "    int max_discount=10;\n",
    "};"
   ]
  },
  {
   "cell_type": "code",
   "execution_count": 49,
   "id": "earned-madrid",
   "metadata": {},
   "outputs": [],
   "source": [
    "class house:public house_overview,costing{\n",
    "    public:\n",
    "    void display_details(){\n",
    "        cout << \"house details : \" << endl; \n",
    "        cout << \"City : \" << city << endl; \n",
    "        cout << \"No of beds : \" << beds << endl;\n",
    "        cout << \"No of cupboards : \" << cupboards << endl;\n",
    "        cout << \"Type : \" << type << endl;\n",
    "        cout << \"Parking Space available : \" << parking_space << endl; \n",
    "        cout << \"Cost : \" << cost << endl; \n",
    "        cout << \"Max discount available : \" << max_discount<<\"%\" << endl; \n",
    "    }\n",
    "};"
   ]
  },
  {
   "cell_type": "code",
   "execution_count": 50,
   "id": "downtown-answer",
   "metadata": {},
   "outputs": [
    {
     "name": "stdout",
     "output_type": "stream",
     "text": [
      "house details : \n",
      "City : Delhi\n",
      "No of beds : 6\n",
      "No of cupboards : 5\n",
      "Type : 2BHK\n",
      "Parking Space available : 1\n",
      "Cost : 5000000\n",
      "Max discount available : 10%\n"
     ]
    }
   ],
   "source": [
    "house home;\n",
    "home.display_details();"
   ]
  },
  {
   "cell_type": "code",
   "execution_count": null,
   "id": "resident-champion",
   "metadata": {},
   "outputs": [],
   "source": []
  }
 ],
 "metadata": {
  "kernelspec": {
   "display_name": "C++17",
   "language": "C++17",
   "name": "xcpp17"
  },
  "language_info": {
   "codemirror_mode": "text/x-c++src",
   "file_extension": ".cpp",
   "mimetype": "text/x-c++src",
   "name": "c++",
   "version": "17"
  }
 },
 "nbformat": 4,
 "nbformat_minor": 5
}
