{
 "cells": [
  {
   "cell_type": "code",
   "execution_count": 119,
   "id": "cross-romance",
   "metadata": {},
   "outputs": [],
   "source": [
    "#include <iostream>\n",
    "using namespace std;"
   ]
  },
  {
   "cell_type": "code",
   "execution_count": 120,
   "id": "pursuant-detection",
   "metadata": {},
   "outputs": [],
   "source": [
    "class CirQueue {\n",
    "     public:\n",
    "    int front, rear, capacity;\n",
    "    int* cirqueue;\n",
    "   \n",
    "    CirQueue(int c)\n",
    "    {\n",
    "        front = rear = -1;\n",
    "        capacity = c;\n",
    "        cirqueue = new int;\n",
    "    }\n",
    "    \n",
    "    ~CirQueue() { delete[] cirqueue; }\n",
    "    void cirqueueEnqueue(int data);\n",
    "    void cirqueueDequeue();\n",
    "    void cirqueueDisplay();\n",
    "    void cirqueueFront();\n",
    "    void disp();\n",
    "}"
   ]
  },
  {
   "cell_type": "code",
   "execution_count": 121,
   "id": "indoor-cannon",
   "metadata": {},
   "outputs": [],
   "source": [
    "void CirQueue::cirqueueEnqueue(int data){\n",
    "    if((front==0 && rear==capacity-1)||(rear==front-1)){\n",
    "        cout<<\"Circular Queue is full\"<<endl;\n",
    "    }\n",
    "    else if(front<0){\n",
    "        cirqueue[++rear]=data;\n",
    "        front++;\n",
    "    }\n",
    "    else if(rear==capacity-1){\n",
    "        rear=0;\n",
    "        cirqueue[rear]=data;\n",
    "    }\n",
    "    else{\n",
    "        cirqueue[++rear]=data;\n",
    "    }\n",
    "        \n",
    "}"
   ]
  },
  {
   "cell_type": "code",
   "execution_count": 122,
   "id": "criminal-imperial",
   "metadata": {},
   "outputs": [],
   "source": [
    "void CirQueue::cirqueueDequeue(){\n",
    "    if(front<0){\n",
    "        cout<<\"Circular Queue is Empty\"<<endl;\n",
    "    }\n",
    "    else if(front==rear){\n",
    "        front=-1;\n",
    "        rear=-1;\n",
    "    }\n",
    "    else if(front==capacity-1){\n",
    "        front=0;\n",
    "    }\n",
    "    else{\n",
    "        front++;\n",
    "    }\n",
    "        \n",
    "}"
   ]
  },
  {
   "cell_type": "code",
   "execution_count": 123,
   "id": "tropical-distinction",
   "metadata": {},
   "outputs": [],
   "source": [
    "void CirQueue::cirqueueDisplay(){\n",
    "    if(front<0){\n",
    "        cout<<\"Circular Queue is Empty\"<<endl;\n",
    "    }\n",
    "    else if(front==rear+1){\n",
    "        \n",
    "    for(int i=front;i!=rear;i++){\n",
    "        if(i==capacity){\n",
    "            i=0;\n",
    "        }\n",
    "        cout<<cirqueue[i]<<\" \";\n",
    "        }\n",
    "        cout<<cirqueue[rear];\n",
    "    } \n",
    "    else{\n",
    "    for(int i=front;i!=rear+1;i++){\n",
    "        if(i==capacity){\n",
    "            i=0;\n",
    "        }\n",
    "        cout<<cirqueue[i]<<\" \";\n",
    "        }\n",
    "     }\n",
    "}"
   ]
  },
  {
   "cell_type": "code",
   "execution_count": 124,
   "id": "equal-opera",
   "metadata": {},
   "outputs": [],
   "source": [
    "CirQueue q(5);\n",
    "//q.cirqueueEnqueue(1);\n",
    "q.cirqueueEnqueue(2);\n",
    "q.cirqueueEnqueue(3);\n",
    "q.cirqueueEnqueue(4);\n",
    "q.cirqueueEnqueue(5);\n",
    "q.cirqueueEnqueue(6); \n"
   ]
  },
  {
   "cell_type": "code",
   "execution_count": 125,
   "id": "backed-anderson",
   "metadata": {},
   "outputs": [
    {
     "name": "stdout",
     "output_type": "stream",
     "text": [
      "2 3 4 5 6 "
     ]
    }
   ],
   "source": [
    "q.cirqueueDisplay()"
   ]
  },
  {
   "cell_type": "code",
   "execution_count": 115,
   "id": "critical-tomato",
   "metadata": {},
   "outputs": [
    {
     "name": "stdout",
     "output_type": "stream",
     "text": [
      "Circular Queue is Empty\n"
     ]
    }
   ],
   "source": [
    "q.cirqueueDequeue();"
   ]
  },
  {
   "cell_type": "code",
   "execution_count": 118,
   "id": "wired-roommate",
   "metadata": {},
   "outputs": [
    {
     "name": "stdout",
     "output_type": "stream",
     "text": [
      "23456"
     ]
    }
   ],
   "source": [
    "q.cirqueueDisplay()"
   ]
  },
  {
   "cell_type": "code",
   "execution_count": 106,
   "id": "abroad-mineral",
   "metadata": {},
   "outputs": [],
   "source": [
    "q.cirqueueEnqueue(6);"
   ]
  },
  {
   "cell_type": "code",
   "execution_count": 92,
   "id": "asian-thickness",
   "metadata": {},
   "outputs": [
    {
     "name": "stdout",
     "output_type": "stream",
     "text": [
      "6"
     ]
    }
   ],
   "source": [
    "q.cirqueueDisplay();"
   ]
  },
  {
   "cell_type": "code",
   "execution_count": 107,
   "id": "prime-partnership",
   "metadata": {},
   "outputs": [
    {
     "name": "stdout",
     "output_type": "stream",
     "text": [
      "3\n",
      "2"
     ]
    }
   ],
   "source": [
    "cout<<q.front<<endl;\n",
    "cout<<q.rear;"
   ]
  },
  {
   "cell_type": "code",
   "execution_count": null,
   "id": "chubby-surprise",
   "metadata": {},
   "outputs": [],
   "source": []
  }
 ],
 "metadata": {
  "kernelspec": {
   "display_name": "C++17",
   "language": "C++17",
   "name": "xcpp17"
  },
  "language_info": {
   "codemirror_mode": "text/x-c++src",
   "file_extension": ".cpp",
   "mimetype": "text/x-c++src",
   "name": "c++",
   "version": "17"
  }
 },
 "nbformat": 4,
 "nbformat_minor": 5
}
