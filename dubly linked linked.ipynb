{
 "cells": [
  {
   "cell_type": "code",
   "execution_count": null,
   "id": "graphic-commissioner",
   "metadata": {},
   "outputs": [],
   "source": [
    "class Node{\n",
    "    int data;\n",
    "    int *prev;\n",
    "    int *next;\n",
    "    Node(int x){\n",
    "        data=x;\n",
    "        next=NULL;\n",
    "        prev=NULL;\n",
    "    }\n",
    "}"
   ]
  }
 ],
 "metadata": {
  "kernelspec": {
   "display_name": "C++17",
   "language": "C++17",
   "name": "xcpp17"
  },
  "language_info": {
   "codemirror_mode": "text/x-c++src",
   "file_extension": ".cpp",
   "mimetype": "text/x-c++src",
   "name": "c++",
   "version": "17"
  }
 },
 "nbformat": 4,
 "nbformat_minor": 5
}
