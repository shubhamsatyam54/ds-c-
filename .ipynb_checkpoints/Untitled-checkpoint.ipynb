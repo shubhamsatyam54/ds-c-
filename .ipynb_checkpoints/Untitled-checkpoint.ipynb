{
 "cells": [
  {
   "cell_type": "code",
   "execution_count": 1,
   "id": "handled-ready",
   "metadata": {},
   "outputs": [],
   "source": [
    "#include <iostream>\n",
    "#include <string>\n",
    "using namespace std;"
   ]
  },
  {
   "cell_type": "code",
   "execution_count": 2,
   "id": "differential-compensation",
   "metadata": {},
   "outputs": [
    {
     "data": {
      "text/plain": [
       "15"
      ]
     },
     "execution_count": 2,
     "metadata": {},
     "output_type": "execute_result"
    }
   ],
   "source": [
    "int *p=new int(5);\n",
    "int *q=new int(10);\n",
    "int *sum=new int(*p+*q);\n",
    "*sum"
   ]
  },
  {
   "cell_type": "code",
   "execution_count": 3,
   "id": "patient-navigation",
   "metadata": {},
   "outputs": [],
   "source": [
    "delete sum"
   ]
  },
  {
   "cell_type": "code",
   "execution_count": 4,
   "id": "naked-stream",
   "metadata": {},
   "outputs": [
    {
     "data": {
      "text/plain": [
       "-385044496"
      ]
     },
     "execution_count": 4,
     "metadata": {},
     "output_type": "execute_result"
    }
   ],
   "source": [
    "*sum"
   ]
  },
  {
   "cell_type": "code",
   "execution_count": 5,
   "id": "enhanced-poland",
   "metadata": {},
   "outputs": [
    {
     "data": {
      "text/plain": [
       "15"
      ]
     },
     "execution_count": 5,
     "metadata": {},
     "output_type": "execute_result"
    }
   ],
   "source": [
    "sum=new int(*p+*q);\n",
    "*sum"
   ]
  },
  {
   "cell_type": "code",
   "execution_count": 6,
   "id": "expanded-import",
   "metadata": {},
   "outputs": [
    {
     "data": {
      "text/plain": [
       "-376212928"
      ]
     },
     "execution_count": 6,
     "metadata": {},
     "output_type": "execute_result"
    }
   ],
   "source": [
    "delete sum;\n",
    "*sum"
   ]
  },
  {
   "cell_type": "markdown",
   "id": "amateur-allergy",
   "metadata": {},
   "source": [
    "# copy constructor  "
   ]
  },
  {
   "cell_type": "code",
   "execution_count": null,
   "id": "powered-knife",
   "metadata": {},
   "outputs": [],
   "source": [
    "class A{\n",
    " public:\n",
    " int x,y;\n",
    "\n",
    " A(int x1){\n",
    " x=x1;\n",
    " }\n",
    "\n",
    " A(const A &obj){\n",
    " x=obj.x;\n",
    " y=obj.y;\n",
    " }\n",
    "};\n",
    "A obj1(4,5);\n",
    "A obj2 = obj1;\n",
    "cout<<\"obj1.x = \"<<obj1.x<<\", obj1.y = \"<<obj1.y;\n",
    "cout<< \"\\nobj2.x = \"<<obj2.x<<\", obj2.y = \"<<obj2.y;"
   ]
  }
 ],
 "metadata": {
  "kernelspec": {
   "display_name": "C++17",
   "language": "C++17",
   "name": "xcpp17"
  },
  "language_info": {
   "codemirror_mode": "text/x-c++src",
   "file_extension": ".cpp",
   "mimetype": "text/x-c++src",
   "name": "c++",
   "version": "17"
  }
 },
 "nbformat": 4,
 "nbformat_minor": 5
}
