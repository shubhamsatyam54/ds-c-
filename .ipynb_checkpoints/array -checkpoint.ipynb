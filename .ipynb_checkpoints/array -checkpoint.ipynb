{
 "cells": [
  {
   "cell_type": "code",
   "execution_count": 1,
   "id": "enclosed-choir",
   "metadata": {},
   "outputs": [],
   "source": [
    "#include <iostream>\n",
    "#include <string>\n",
    "using namespace std;"
   ]
  },
  {
   "cell_type": "code",
   "execution_count": 2,
   "id": "excited-subscription",
   "metadata": {},
   "outputs": [],
   "source": [
    "int arr[]={10,12,14,22,21};"
   ]
  },
  {
   "cell_type": "code",
   "execution_count": 3,
   "id": "cheap-transportation",
   "metadata": {},
   "outputs": [
    {
     "name": "stderr",
     "output_type": "stream",
     "text": [
      "input_line_10:2:2: warning: array index 6 is past the end of the array (which contains 5 elements) [-Warray-bounds]\n",
      " arr[6]=55;\n",
      " ^   ~\n",
      "input_line_9:2:2: note: array 'arr' declared here\n",
      " int arr[]={10,12,14,22,21};\n",
      " ^\n"
     ]
    }
   ],
   "source": [
    "arr[6]=55;"
   ]
  },
  {
   "cell_type": "markdown",
   "id": "tribal-deadline",
   "metadata": {},
   "source": [
    "##### insering in array"
   ]
  },
  {
   "cell_type": "code",
   "execution_count": 4,
   "id": "northern-divide",
   "metadata": {},
   "outputs": [],
   "source": [
    "int arr[]={10,12,14,22,21};"
   ]
  },
  {
   "cell_type": "code",
   "execution_count": 5,
   "id": "empty-argentina",
   "metadata": {},
   "outputs": [
    {
     "data": {
      "text/plain": [
       "{ 10, 12, 14, 6, 21 }"
      ]
     },
     "execution_count": 5,
     "metadata": {},
     "output_type": "execute_result"
    }
   ],
   "source": [
    "//inserting 6 at index 3\n",
    "int position=3;\n",
    "int element=6;\n",
    "arr[position]=element;\n",
    "arr"
   ]
  },
  {
   "cell_type": "markdown",
   "id": "italian-phase",
   "metadata": {},
   "source": [
    "//inserting 6 at index 3"
   ]
  },
  {
   "cell_type": "code",
   "execution_count": null,
   "id": "figured-williams",
   "metadata": {},
   "outputs": [],
   "source": []
  },
  {
   "cell_type": "markdown",
   "id": "placed-equivalent",
   "metadata": {},
   "source": [
    "##### deleting an elemt at index 2"
   ]
  },
  {
   "cell_type": "code",
   "execution_count": 6,
   "id": "injured-missile",
   "metadata": {},
   "outputs": [],
   "source": [
    "int arr[]={10,12,14,22,21};"
   ]
  },
  {
   "cell_type": "code",
   "execution_count": 7,
   "id": "restricted-brazilian",
   "metadata": {},
   "outputs": [
    {
     "data": {
      "text/plain": [
       "{ 10, 12, 22, 21, 0 }"
      ]
     },
     "execution_count": 7,
     "metadata": {},
     "output_type": "execute_result"
    }
   ],
   "source": [
    "int position=2;\n",
    "int len=sizeof(arr);\n",
    "for(int i=position;i<len;i++){\n",
    "    arr[i]=arr[i+1];\n",
    "}\n",
    "arr[len-1]=0;\n",
    "arr"
   ]
  },
  {
   "cell_type": "code",
   "execution_count": null,
   "id": "wanted-special",
   "metadata": {},
   "outputs": [],
   "source": []
  }
 ],
 "metadata": {
  "kernelspec": {
   "display_name": "C++17",
   "language": "C++17",
   "name": "xcpp17"
  },
  "language_info": {
   "codemirror_mode": "text/x-c++src",
   "file_extension": ".cpp",
   "mimetype": "text/x-c++src",
   "name": "c++",
   "version": "17"
  }
 },
 "nbformat": 4,
 "nbformat_minor": 5
}
