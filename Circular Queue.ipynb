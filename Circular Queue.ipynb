{
 "cells": [
  {
   "cell_type": "code",
   "execution_count": 13,
   "id": "cross-romance",
   "metadata": {},
   "outputs": [],
   "source": [
    "#include <iostream>\n",
    "using namespace std;"
   ]
  },
  {
   "cell_type": "code",
   "execution_count": 20,
   "id": "pursuant-detection",
   "metadata": {},
   "outputs": [],
   "source": [
    "class CirQueue {\n",
    "    protected:\n",
    "    int front, rear, capacity;\n",
    "    int* cirqueue;\n",
    "    public:\n",
    "    CirQueue(int c)\n",
    "    {\n",
    "        front = rear = -1;\n",
    "        capacity = c;\n",
    "        cirqueue = new int;\n",
    "    }\n",
    "    \n",
    "    ~CirQueue() { delete[] cirqueue; }\n",
    "    void cirqueueEnqueue(int data);\n",
    "    void cirqueueDequeue();\n",
    "    void cirqueueDisplay();\n",
    "    void cirqueueFront();\n",
    "}"
   ]
  },
  {
   "cell_type": "code",
   "execution_count": 21,
   "id": "indoor-cannon",
   "metadata": {},
   "outputs": [],
   "source": [
    "void CirQueue::cirqueueEnqueue(int data){\n",
    "    if((front==0 && rear==capacity-1)||(rear==front-1)){\n",
    "        cout<<\"Circular Queue is full\"<<endl;\n",
    "    }\n",
    "    else if(front<0){\n",
    "        cirqueue[++rear]=data;\n",
    "        front++;\n",
    "    }\n",
    "    else if(rear==capacity-1){\n",
    "        rear=0;\n",
    "        cirqueue[rear]=data;\n",
    "    }\n",
    "    else{\n",
    "        cirqueue[++rear]=data;\n",
    "    }\n",
    "        \n",
    "}"
   ]
  },
  {
   "cell_type": "code",
   "execution_count": 22,
   "id": "later-atmosphere",
   "metadata": {},
   "outputs": [
    {
     "name": "stdout",
     "output_type": "stream",
     "text": [
      "Circular Queue is full\n"
     ]
    }
   ],
   "source": [
    "CirQueue q(5);\n",
    "q.cirqueueEnqueue(1);\n",
    "q.cirqueueEnqueue(2);\n",
    "q.cirqueueEnqueue(3);\n",
    "q.cirqueueEnqueue(4);\n",
    "q.cirqueueEnqueue(5);\n",
    "q.cirqueueEnqueue(6);\n"
   ]
  },
  {
   "cell_type": "code",
   "execution_count": 23,
   "id": "iraqi-mystery",
   "metadata": {},
   "outputs": [
    {
     "name": "stderr",
     "output_type": "stream",
     "text": [
      "input_line_33:3:13: error: 'cirqueue' is a protected member of '__cling_N517::CirQueue'\n",
      "    cout<<q.cirqueue[i];\n",
      "            ^\n",
      "input_line_30:4:10: note: declared protected here\n",
      "    int* cirqueue;\n",
      "         ^\n"
     ]
    },
    {
     "ename": "Interpreter Error",
     "evalue": "",
     "output_type": "error",
     "traceback": [
      "Interpreter Error: "
     ]
    }
   ],
   "source": [
    "for(int i =0;i<5;i++)\n",
    "    cout<<q.cirqueue[i];"
   ]
  },
  {
   "cell_type": "code",
   "execution_count": 18,
   "id": "public-western",
   "metadata": {},
   "outputs": [],
   "source": [
    "q.front=2;\n",
    "q.cirqueueEnqueue(6);"
   ]
  },
  {
   "cell_type": "code",
   "execution_count": null,
   "id": "altered-failing",
   "metadata": {},
   "outputs": [],
   "source": []
  }
 ],
 "metadata": {
  "kernelspec": {
   "display_name": "C++17",
   "language": "C++17",
   "name": "xcpp17"
  },
  "language_info": {
   "codemirror_mode": "text/x-c++src",
   "file_extension": ".cpp",
   "mimetype": "text/x-c++src",
   "name": "c++",
   "version": "17"
  }
 },
 "nbformat": 4,
 "nbformat_minor": 5
}
