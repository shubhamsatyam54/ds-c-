{
 "cells": [
  {
   "cell_type": "code",
   "execution_count": 1,
   "id": "thousand-aging",
   "metadata": {},
   "outputs": [],
   "source": [
    "#include <iostream>\n",
    "using namespace std;"
   ]
  },
  {
   "cell_type": "markdown",
   "id": "classical-cooperation",
   "metadata": {},
   "source": [
    "# Simple implementation"
   ]
  },
  {
   "cell_type": "code",
   "execution_count": 2,
   "id": "monetary-poison",
   "metadata": {},
   "outputs": [],
   "source": [
    "class Node{\n",
    "    public:\n",
    "    int data;\n",
    "    Node* next;\n",
    "    Node(int x){\n",
    "        data=x;\n",
    "        next=NULL;\n",
    "    }\n",
    "}"
   ]
  },
  {
   "cell_type": "code",
   "execution_count": 4,
   "id": "amended-button",
   "metadata": {},
   "outputs": [],
   "source": [
    "void printlist(Node* head){\n",
    "    Node* curr=head;\n",
    "    while(curr!=NULL){\n",
    "        cout<<(curr->data)<<\" \";\n",
    "        curr=curr->next;\n",
    "    }\n",
    "}"
   ]
  },
  {
   "cell_type": "markdown",
   "id": "helpful-extent",
   "metadata": {},
   "source": [
    "# insertertion"
   ]
  },
  {
   "cell_type": "markdown",
   "id": "close-spectrum",
   "metadata": {},
   "source": [
    "### insertertion at beginging"
   ]
  },
  {
   "cell_type": "code",
   "execution_count": 21,
   "id": "literary-scotland",
   "metadata": {},
   "outputs": [],
   "source": [
    "Node *insertBegin(Node *head,int x){\n",
    "    Node *temp=new Node(x);\n",
    "    temp->next=head;\n",
    "    return temp;\n",
    "}"
   ]
  },
  {
   "cell_type": "code",
   "execution_count": null,
   "id": "awful-blackberry",
   "metadata": {},
   "outputs": [],
   "source": [
    "Node *push(Node *head,int x){\n",
    "    Node *temp=head;\n",
    "    head->next=temp;\n",
    "    head->data=x\n",
    "    return;\n",
    "}"
   ]
  },
  {
   "cell_type": "markdown",
   "id": "charitable-grant",
   "metadata": {},
   "source": [
    "### insertertion at end"
   ]
  },
  {
   "cell_type": "code",
   "execution_count": 35,
   "id": "vanilla-conference",
   "metadata": {},
   "outputs": [],
   "source": [
    "Node *insertEnd(Node *last,int x){\n",
    "    Node *temp=new Node(x);\n",
    "    last->next=temp;\n",
    "    return last;\n",
    "}"
   ]
  },
  {
   "cell_type": "markdown",
   "id": "greatest-judge",
   "metadata": {},
   "source": [
    "### insertion after node"
   ]
  },
  {
   "cell_type": "code",
   "execution_count": 36,
   "id": "democratic-outline",
   "metadata": {},
   "outputs": [],
   "source": [
    "Node* head=new Node(10);\n",
    "Node* temp1=new Node(20);\n",
    "Node* last=new Node(30);\n",
    "head->next=temp1;\n",
    "temp1->next=last;"
   ]
  },
  {
   "cell_type": "code",
   "execution_count": 37,
   "id": "informational-nutrition",
   "metadata": {},
   "outputs": [
    {
     "name": "stdout",
     "output_type": "stream",
     "text": [
      "10 20 30 "
     ]
    }
   ],
   "source": [
    "printlist(head)"
   ]
  },
  {
   "cell_type": "code",
   "execution_count": 38,
   "id": "dental-webmaster",
   "metadata": {},
   "outputs": [],
   "source": [
    "head=insertBegin(head,60);"
   ]
  },
  {
   "cell_type": "code",
   "execution_count": 39,
   "id": "alike-affect",
   "metadata": {},
   "outputs": [
    {
     "name": "stdout",
     "output_type": "stream",
     "text": [
      "60 10 20 30 "
     ]
    }
   ],
   "source": [
    "printlist(head);"
   ]
  },
  {
   "cell_type": "code",
   "execution_count": 40,
   "id": "great-generator",
   "metadata": {},
   "outputs": [],
   "source": [
    "last=insertEnd(last,40);"
   ]
  },
  {
   "cell_type": "code",
   "execution_count": 41,
   "id": "foster-camping",
   "metadata": {},
   "outputs": [
    {
     "name": "stdout",
     "output_type": "stream",
     "text": [
      "60 10 20 30 40 "
     ]
    }
   ],
   "source": [
    "printlist(head);"
   ]
  },
  {
   "cell_type": "code",
   "execution_count": null,
   "id": "purple-contribution",
   "metadata": {},
   "outputs": [],
   "source": [
    "class link{\n",
    "    public:\n",
    "    Node *head;\n",
    "    link(){\n",
    "        head=NULL;\n",
    "    }\n",
    "    \n",
    "    void push(int x);\n",
    "    \n",
    "}"
   ]
  },
  {
   "cell_type": "code",
   "execution_count": null,
   "id": "growing-token",
   "metadata": {},
   "outputs": [],
   "source": [
    "void link::push(int x){\n",
    "    temp->data=x;\n",
    "    \n",
    "    \n",
    "}"
   ]
  }
 ],
 "metadata": {
  "kernelspec": {
   "display_name": "C++17",
   "language": "C++17",
   "name": "xcpp17"
  },
  "language_info": {
   "codemirror_mode": "text/x-c++src",
   "file_extension": ".cpp",
   "mimetype": "text/x-c++src",
   "name": "c++",
   "version": "17"
  }
 },
 "nbformat": 4,
 "nbformat_minor": 5
}
