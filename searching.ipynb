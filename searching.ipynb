{
 "cells": [
  {
   "cell_type": "code",
   "execution_count": 1,
   "id": "limited-orleans",
   "metadata": {},
   "outputs": [],
   "source": [
    "#include <iostream>\n",
    "#include <string>\n",
    "using namespace std;"
   ]
  },
  {
   "cell_type": "markdown",
   "id": "infrared-success",
   "metadata": {},
   "source": [
    "# Linear search"
   ]
  },
  {
   "cell_type": "code",
   "execution_count": 3,
   "id": "regular-wagner",
   "metadata": {},
   "outputs": [],
   "source": [
    "void linear_srh( int arr[],int size, int element){\n",
    "    int indx=-1;\n",
    "    for(int i=0;i<size;i++){\n",
    "        if(arr[i]==element){\n",
    "            indx=i;\n",
    "            break;\n",
    "        }\n",
    "    }\n",
    "    if(indx==-1){\n",
    "        cout<<\"element \"<< element<< \" not found\"<<endl;\n",
    "    }\n",
    "    else{\n",
    "         cout<<\"element \"<< element<< \" found at postion : \"<<indx+1<< endl;\n",
    "    }\n",
    "}"
   ]
  },
  {
   "cell_type": "code",
   "execution_count": 4,
   "id": "interstate-mapping",
   "metadata": {},
   "outputs": [
    {
     "name": "stdout",
     "output_type": "stream",
     "text": [
      "element 4 found at postion : 4\n",
      "element 99 not found\n"
     ]
    }
   ],
   "source": [
    "int arr[]={1,5,8,4,6};\n",
    "linear_srh(arr,5,4);\n",
    "linear_srh(arr,5,99);"
   ]
  },
  {
   "cell_type": "markdown",
   "id": "rational-settlement",
   "metadata": {},
   "source": [
    "# Binary Search"
   ]
  },
  {
   "cell_type": "code",
   "execution_count": 2,
   "id": "celtic-leader",
   "metadata": {},
   "outputs": [],
   "source": [
    "void bub_sort(int arr[],int size){\n",
    "bool state = false;\n",
    "for(int i=0;i<size-1;i++){\n",
    "    for(int j=0;j<size-1;j++){\n",
    "        if(arr[j]>arr[j+1]){ \n",
    "            int temp=arr[j];\n",
    "            arr[j]=arr[j+1];\n",
    "            arr[j+1]=temp;\n",
    "            state=true;\n",
    "        }\n",
    "    }\n",
    "    if (state==false){\n",
    "            break;\n",
    "        }\n",
    "        state=false;\n",
    "}   \n",
    "}"
   ]
  },
  {
   "cell_type": "code",
   "execution_count": 3,
   "id": "documentary-editor",
   "metadata": {},
   "outputs": [],
   "source": [
    "int binary_srh(int arr[],int size,int element){\n",
    "    int low=0;\n",
    "    int high=size-1;\n",
    "    int temp;\n",
    "    while(low<=high){\n",
    "        int indx=(low+high)/2;\n",
    "        temp=arr[indx];\n",
    "        if(temp==element){\n",
    "          return indx;\n",
    "        }\n",
    "        else if(element<temp) {\n",
    "            high=indx-1;\n",
    "        }\n",
    "        else if(element>temp){\n",
    "            low=indx+1;\n",
    "        }\n",
    "    }\n",
    "    return -1;\n",
    "}"
   ]
  },
  {
   "cell_type": "code",
   "execution_count": 8,
   "id": "developmental-means",
   "metadata": {},
   "outputs": [],
   "source": [
    "int main(){\n",
    "int size=5;\n",
    "int element;\n",
    "cout<<\"Enter the size of array : \";\n",
    "cin>>size;\n",
    "int arr[size];\n",
    "for(int i=0;i<size;i++){\n",
    "    cin>>arr[i];\n",
    "}\n",
    "bub_sort(arr,size);\n",
    "cout<<\"Sorted array : \";\n",
    "for(int i=0;i<size;i++){\n",
    "    cout<<arr[i]<<\" \";\n",
    "}\n",
    "cout<<\"\\n Enter the elemnt to search : \";\n",
    "//cin >> element;\n",
    "/*    \n",
    "int result=binary_srh(arr,size,element);\n",
    "if(result == -1) {\n",
    "    cout << \"Element is not present in array\";\n",
    "} \n",
    "else{\n",
    "    cout << \"Element is present at index \" << result;\n",
    "}\n",
    "*/\n",
    "  return 0;\n",
    "}"
   ]
  },
  {
   "cell_type": "code",
   "execution_count": null,
   "id": "logical-tanzania",
   "metadata": {},
   "outputs": [
    {
     "name": "stdout",
     "output_type": "stream",
     "text": [
      "Enter the size of array : "
     ]
    }
   ],
   "source": [
    "main()"
   ]
  },
  {
   "cell_type": "code",
   "execution_count": null,
   "id": "traditional-distinction",
   "metadata": {},
   "outputs": [],
   "source": []
  }
 ],
 "metadata": {
  "kernelspec": {
   "display_name": "C++17",
   "language": "C++17",
   "name": "xcpp17"
  },
  "language_info": {
   "codemirror_mode": "text/x-c++src",
   "file_extension": ".cpp",
   "mimetype": "text/x-c++src",
   "name": "c++",
   "version": "17"
  }
 },
 "nbformat": 4,
 "nbformat_minor": 5
}
