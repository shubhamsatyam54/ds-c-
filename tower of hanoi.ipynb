{
 "cells": [
  {
   "cell_type": "code",
   "execution_count": 20,
   "id": "mature-amazon",
   "metadata": {},
   "outputs": [],
   "source": [
    "#include <iostream>\n",
    "#include <string>\n",
    "#include <bits/stdc++.h>\n",
    "#include <stack>\n",
    "using namespace std;\n"
   ]
  },
  {
   "cell_type": "code",
   "execution_count": 18,
   "id": "processed-gospel",
   "metadata": {},
   "outputs": [
    {
     "name": "stderr",
     "output_type": "stream",
     "text": [
      "input_line_28:2:8: error: declaration of variable 'st' with deduced type 'stack' requires an initializer\n",
      " stack st;\n",
      "       ^\n"
     ]
    },
    {
     "ename": "Interpreter Error",
     "evalue": "",
     "output_type": "error",
     "traceback": [
      "Interpreter Error: "
     ]
    }
   ],
   "source": [
    "stack st;\n",
    "st.push(5);"
   ]
  },
  {
   "cell_type": "code",
   "execution_count": 11,
   "id": "driving-dancing",
   "metadata": {},
   "outputs": [
    {
     "name": "stdout",
     "output_type": "stream",
     "text": [
      "moved 1 from A to B\n",
      "moved 2 from A to C\n",
      "moved 3 from A to B\n"
     ]
    }
   ],
   "source": [
    "int n=2;\n",
    "\n",
    "for(int i=1;i<=x;i++){\n",
    "    if(i%3==1){\n",
    "        cout<<\"moved \"<<i<<\" from S to D\"<<endl;\n",
    "    }\n",
    "    if(i%3==2){\n",
    "        cout<<\"moved \"<<i<<\" from A to C\"<<endl;\n",
    "    }\n",
    "    if(i%3==0){\n",
    "        cout<<\"moved \"<<i<<\" from A to C\"<<endl;\n",
    "    }\n",
    "}"
   ]
  },
  {
   "cell_type": "code",
   "execution_count": 9,
   "id": "cordless-upgrade",
   "metadata": {},
   "outputs": [],
   "source": [
    "int x=(int)pow(2,n)-1;"
   ]
  },
  {
   "cell_type": "code",
   "execution_count": null,
   "id": "average-turning",
   "metadata": {},
   "outputs": [],
   "source": []
  }
 ],
 "metadata": {
  "kernelspec": {
   "display_name": "C++17",
   "language": "C++17",
   "name": "xcpp17"
  },
  "language_info": {
   "codemirror_mode": "text/x-c++src",
   "file_extension": ".cpp",
   "mimetype": "text/x-c++src",
   "name": "c++",
   "version": "17"
  }
 },
 "nbformat": 4,
 "nbformat_minor": 5
}
