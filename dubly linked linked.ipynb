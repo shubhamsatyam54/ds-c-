{
 "cells": [
  {
   "cell_type": "code",
   "execution_count": 1,
   "id": "korean-process",
   "metadata": {},
   "outputs": [],
   "source": [
    "#include <iostream>\n",
    "using namespace std;"
   ]
  },
  {
   "cell_type": "code",
   "execution_count": 2,
   "id": "clean-executive",
   "metadata": {},
   "outputs": [],
   "source": [
    "class Node{\n",
    "    public:\n",
    "    int data;\n",
    "    Node *prev;\n",
    "    Node *next;\n",
    "    Node(int x){\n",
    "        data=x;\n",
    "        next=NULL;\n",
    "        prev=NULL;\n",
    "    }\n",
    "}"
   ]
  },
  {
   "cell_type": "code",
   "execution_count": 3,
   "id": "embedded-albuquerque",
   "metadata": {},
   "outputs": [],
   "source": [
    "class DBlinkedList{\n",
    "    public:\n",
    "    Node *head;\n",
    "    DBlinkedList(){\n",
    "        head=NULL;\n",
    "    };\n",
    "    \n",
    "    void push(int x);\n",
    "    void append(int x);\n",
    "    void printlist();\n",
    "    void addAt(Node* node,int x);\n",
    "}"
   ]
  },
  {
   "cell_type": "code",
   "execution_count": 4,
   "id": "august-switch",
   "metadata": {},
   "outputs": [],
   "source": [
    "void DBlinkedList::push(int x){\n",
    "Node *temp=new Node(x);\n",
    "temp->next=head;\n",
    "if(head!=NULL){\n",
    "head->prev=temp;\n",
    "}\n",
    "head=temp;\n",
    "}"
   ]
  },
  {
   "cell_type": "code",
   "execution_count": 5,
   "id": "developed-spray",
   "metadata": {},
   "outputs": [],
   "source": [
    "void DBlinkedList::printlist(){\n",
    "    Node* curr=head;\n",
    "    while(curr!=NULL){\n",
    "        cout<<(curr->data)<<\" \";\n",
    "        curr=curr->next;\n",
    "    }\n",
    "}"
   ]
  },
  {
   "cell_type": "code",
   "execution_count": 6,
   "id": "specific-liability",
   "metadata": {},
   "outputs": [],
   "source": [
    "void DBlinkedList::append(int x){\n",
    "Node *last=head;\n",
    "Node *temp=new Node(x);\n",
    "while(last->next!=NULL){\n",
    "    last=last->next;\n",
    "}\n",
    "temp->prev=last;\n",
    "last->next=temp;\n",
    "}"
   ]
  },
  {
   "cell_type": "code",
   "execution_count": 7,
   "id": "sublime-concert",
   "metadata": {},
   "outputs": [],
   "source": [
    "void DBlinkedList::addAt(Node* node,int x){\n",
    "    Node *temp=new Node(x);\n",
    "    temp->next=node->next;\n",
    "    temp->prev=node;\n",
    "    node->next=temp;\n",
    "}"
   ]
  },
  {
   "cell_type": "code",
   "execution_count": 8,
   "id": "communist-carter",
   "metadata": {},
   "outputs": [],
   "source": [
    "DBlinkedList l;\n",
    "l.push(2);"
   ]
  },
  {
   "cell_type": "code",
   "execution_count": 9,
   "id": "regional-survey",
   "metadata": {},
   "outputs": [],
   "source": [
    "l.push(3);\n",
    "l.push(5);"
   ]
  },
  {
   "cell_type": "code",
   "execution_count": 10,
   "id": "agreed-solution",
   "metadata": {},
   "outputs": [
    {
     "name": "stdout",
     "output_type": "stream",
     "text": [
      "5 3 2 "
     ]
    }
   ],
   "source": [
    "l.printlist();"
   ]
  },
  {
   "cell_type": "code",
   "execution_count": 11,
   "id": "vulnerable-equation",
   "metadata": {},
   "outputs": [],
   "source": [
    "l.append(6);"
   ]
  },
  {
   "cell_type": "code",
   "execution_count": 12,
   "id": "threaded-broadcasting",
   "metadata": {},
   "outputs": [],
   "source": [
    "Node *n=l.head->next->next"
   ]
  },
  {
   "cell_type": "code",
   "execution_count": 13,
   "id": "conditional-paint",
   "metadata": {},
   "outputs": [
    {
     "data": {
      "text/plain": [
       "3"
      ]
     },
     "execution_count": 13,
     "metadata": {},
     "output_type": "execute_result"
    }
   ],
   "source": [
    "n->prev->data"
   ]
  },
  {
   "cell_type": "code",
   "execution_count": 14,
   "id": "accomplished-cardiff",
   "metadata": {},
   "outputs": [],
   "source": [
    "l.addAt(n,5);"
   ]
  },
  {
   "cell_type": "code",
   "execution_count": 15,
   "id": "bronze-variance",
   "metadata": {},
   "outputs": [
    {
     "name": "stdout",
     "output_type": "stream",
     "text": [
      "5 3 2 5 6 "
     ]
    }
   ],
   "source": [
    "l.printlist();"
   ]
  },
  {
   "cell_type": "code",
   "execution_count": null,
   "id": "middle-alarm",
   "metadata": {},
   "outputs": [],
   "source": []
  }
 ],
 "metadata": {
  "kernelspec": {
   "display_name": "C++17",
   "language": "C++17",
   "name": "xcpp17"
  },
  "language_info": {
   "codemirror_mode": "text/x-c++src",
   "file_extension": ".cpp",
   "mimetype": "text/x-c++src",
   "name": "c++",
   "version": "17"
  }
 },
 "nbformat": 4,
 "nbformat_minor": 5
}
