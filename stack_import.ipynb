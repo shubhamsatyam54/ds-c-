{
 "cells": [
  {
   "cell_type": "code",
   "execution_count": 1,
   "id": "objective-record",
   "metadata": {},
   "outputs": [],
   "source": [
    "#include <iostream>\n",
    "#include <string>\n",
    "using namespace std;"
   ]
  },
  {
   "cell_type": "code",
   "execution_count": 2,
   "id": "egyptian-easter",
   "metadata": {},
   "outputs": [],
   "source": [
    "class Stack{\n",
    "    int top;\n",
    "    static const int max=1000;\n",
    "    public:\n",
    "    int data[max];\n",
    "    Stack(){\n",
    "\n",
    "        top=-1;\n",
    "\n",
    "    };\n",
    "    bool push(int x);\n",
    "    int pop();\n",
    "    int peek();\n",
    "    bool isEmpty();\n",
    "};"
   ]
  },
  {
   "cell_type": "code",
   "execution_count": 3,
   "id": "raised-external",
   "metadata": {},
   "outputs": [],
   "source": [
    "bool Stack::push(int x){\n",
    "    if(top>=max){\n",
    "        return false;\n",
    "    }\n",
    "    else{\n",
    "        data[++top]=x;\n",
    "        return true;\n",
    "    }\n",
    "};"
   ]
  },
  {
   "cell_type": "code",
   "execution_count": 4,
   "id": "increased-calculation",
   "metadata": {},
   "outputs": [],
   "source": [
    "bool Stack::isEmpty(){\n",
    "   return(top<0);\n",
    "};"
   ]
  },
  {
   "cell_type": "code",
   "execution_count": 5,
   "id": "surprising-clearing",
   "metadata": {},
   "outputs": [],
   "source": [
    "int Stack::peek(){\n",
    "    if(top<0){\n",
    "        return -1;\n",
    "    } \n",
    "    else{\n",
    "        return data[top];\n",
    "    }\n",
    "}"
   ]
  },
  {
   "cell_type": "code",
   "execution_count": 6,
   "id": "strange-kitty",
   "metadata": {},
   "outputs": [],
   "source": [
    "int Stack::pop(){\n",
    "     if(top<0){\n",
    "        return -1;\n",
    "    } \n",
    "     else{\n",
    "        return data[top--];\n",
    "    }\n",
    "}"
   ]
  }
 ],
 "metadata": {
  "kernelspec": {
   "display_name": "C++17",
   "language": "C++17",
   "name": "xcpp17"
  },
  "language_info": {
   "codemirror_mode": "text/x-c++src",
   "file_extension": ".cpp",
   "mimetype": "text/x-c++src",
   "name": "c++",
   "version": "17"
  }
 },
 "nbformat": 4,
 "nbformat_minor": 5
}
