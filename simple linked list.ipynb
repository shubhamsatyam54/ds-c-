{
 "cells": [
  {
   "cell_type": "code",
   "execution_count": 1,
   "id": "thousand-aging",
   "metadata": {},
   "outputs": [],
   "source": [
    "#include <iostream>\n",
    "using namespace std;"
   ]
  },
  {
   "cell_type": "markdown",
   "id": "classical-cooperation",
   "metadata": {},
   "source": [
    "# Simple implementation"
   ]
  },
  {
   "cell_type": "code",
   "execution_count": 2,
   "id": "monetary-poison",
   "metadata": {},
   "outputs": [],
   "source": [
    "class Node{\n",
    "    public:\n",
    "    int data;\n",
    "    Node* next;\n",
    "    Node(int x){\n",
    "        data=x;\n",
    "        next=NULL;\n",
    "    }\n",
    "}"
   ]
  },
  {
   "cell_type": "code",
   "execution_count": 3,
   "id": "purple-contribution",
   "metadata": {},
   "outputs": [],
   "source": [
    "class linkedList{\n",
    "    protected:\n",
    "    Node *head;\n",
    "    public:\n",
    "    linkedList(){\n",
    "        head=NULL;\n",
    "    };\n",
    "    void push(int x);\n",
    "    void append(int x);\n",
    "    void printlist();\n",
    "}"
   ]
  },
  {
   "cell_type": "markdown",
   "id": "close-spectrum",
   "metadata": {},
   "source": [
    "### insertertion at beginging"
   ]
  },
  {
   "cell_type": "code",
   "execution_count": 4,
   "id": "growing-token",
   "metadata": {},
   "outputs": [],
   "source": [
    "void linkedList::push(int x){\n",
    "Node *temp=new Node(x);\n",
    "temp->next=head;\n",
    "head=temp;\n",
    "}"
   ]
  },
  {
   "cell_type": "markdown",
   "id": "charitable-grant",
   "metadata": {},
   "source": [
    "### insertertion at end"
   ]
  },
  {
   "cell_type": "code",
   "execution_count": 5,
   "id": "vanilla-conference",
   "metadata": {},
   "outputs": [],
   "source": [
    "void linkedList::append(int x){\n",
    "    Node *last=head;\n",
    "    Node *temp=new Node(x);\n",
    "    while(last->next!=NULL){\n",
    "        last=last->next;\n",
    "    }\n",
    "    last->next=temp;\n",
    "}"
   ]
  },
  {
   "cell_type": "markdown",
   "id": "vital-immune",
   "metadata": {},
   "source": [
    "### displaying the list"
   ]
  },
  {
   "cell_type": "code",
   "execution_count": 6,
   "id": "amended-button",
   "metadata": {},
   "outputs": [],
   "source": [
    "void linkedList::printlist(){\n",
    "    Node* curr=head;\n",
    "    while(curr!=NULL){\n",
    "        cout<<(curr->data)<<\" \";\n",
    "        curr=curr->next;\n",
    "    }\n",
    "}"
   ]
  },
  {
   "cell_type": "code",
   "execution_count": 7,
   "id": "stone-subscriber",
   "metadata": {},
   "outputs": [],
   "source": [
    "linkedList l;\n",
    "l.push(2);\n",
    "l.push(3);\n",
    "l.push(4);"
   ]
  },
  {
   "cell_type": "code",
   "execution_count": 8,
   "id": "earned-bread",
   "metadata": {},
   "outputs": [
    {
     "name": "stdout",
     "output_type": "stream",
     "text": [
      "4 3 2 "
     ]
    }
   ],
   "source": [
    "l.printlist();"
   ]
  },
  {
   "cell_type": "code",
   "execution_count": 9,
   "id": "funky-mother",
   "metadata": {},
   "outputs": [
    {
     "name": "stdout",
     "output_type": "stream",
     "text": [
      "4 3 2 3 "
     ]
    }
   ],
   "source": [
    "l.append(3);\n",
    "l.printlist();"
   ]
  },
  {
   "cell_type": "code",
   "execution_count": null,
   "id": "human-veteran",
   "metadata": {},
   "outputs": [],
   "source": []
  }
 ],
 "metadata": {
  "kernelspec": {
   "display_name": "C++17",
   "language": "C++17",
   "name": "xcpp17"
  },
  "language_info": {
   "codemirror_mode": "text/x-c++src",
   "file_extension": ".cpp",
   "mimetype": "text/x-c++src",
   "name": "c++",
   "version": "17"
  }
 },
 "nbformat": 4,
 "nbformat_minor": 5
}
