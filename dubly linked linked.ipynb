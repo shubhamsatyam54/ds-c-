{
 "cells": [
  {
   "cell_type": "code",
   "execution_count": 48,
   "id": "korean-process",
   "metadata": {},
   "outputs": [],
   "source": [
    "#include <iostream>\n",
    "using namespace std;"
   ]
  },
  {
   "cell_type": "code",
   "execution_count": 49,
   "id": "clean-executive",
   "metadata": {},
   "outputs": [],
   "source": [
    "class Node{\n",
    "    public:\n",
    "    int data;\n",
    "    Node *prev;\n",
    "    Node *next;\n",
    "    Node(int x){\n",
    "        data=x;\n",
    "        next=NULL;\n",
    "        prev=NULL;\n",
    "    }\n",
    "}"
   ]
  },
  {
   "cell_type": "code",
   "execution_count": 50,
   "id": "embedded-albuquerque",
   "metadata": {},
   "outputs": [],
   "source": [
    "class linkedList{\n",
    "    public:\n",
    "    Node *head;\n",
    "    linkedList(){\n",
    "        head=NULL;\n",
    "    };\n",
    "    \n",
    "    void push(int x);\n",
    "    void append(int x);\n",
    "    void printlist();\n",
    "}"
   ]
  },
  {
   "cell_type": "code",
   "execution_count": 51,
   "id": "august-switch",
   "metadata": {},
   "outputs": [],
   "source": [
    "void linkedList::push(int x){\n",
    "Node *temp=new Node(x);\n",
    "temp->next=head;\n",
    "if(head!=NULL){\n",
    "head->prev=temp;\n",
    "}\n",
    "head=temp;\n",
    "}"
   ]
  },
  {
   "cell_type": "code",
   "execution_count": 52,
   "id": "developed-spray",
   "metadata": {},
   "outputs": [],
   "source": [
    "void linkedList::printlist(){\n",
    "    Node* curr=head;\n",
    "    while(curr!=NULL){\n",
    "        cout<<(curr->data)<<\" \";\n",
    "        curr=curr->next;\n",
    "    }\n",
    "}"
   ]
  },
  {
   "cell_type": "code",
   "execution_count": 57,
   "id": "specific-liability",
   "metadata": {},
   "outputs": [],
   "source": [
    "void linkedList::append(int x){\n",
    "Node *last=head;\n",
    "Node *temp=new Node(x);\n",
    "while(last->next!=NULL){\n",
    "    last=last->next;\n",
    "}\n",
    "temp->prev=last;\n",
    "last->next=temp;\n",
    "}"
   ]
  },
  {
   "cell_type": "code",
   "execution_count": 61,
   "id": "communist-carter",
   "metadata": {},
   "outputs": [],
   "source": [
    "linkedList l;\n",
    "l.push(2);"
   ]
  },
  {
   "cell_type": "code",
   "execution_count": 67,
   "id": "agreed-solution",
   "metadata": {},
   "outputs": [
    {
     "name": "stdout",
     "output_type": "stream",
     "text": [
      "2 5 6 "
     ]
    }
   ],
   "source": [
    "l.printlist();"
   ]
  },
  {
   "cell_type": "code",
   "execution_count": 66,
   "id": "vulnerable-equation",
   "metadata": {},
   "outputs": [],
   "source": [
    "l.append(6);"
   ]
  },
  {
   "cell_type": "code",
   "execution_count": 68,
   "id": "threaded-broadcasting",
   "metadata": {},
   "outputs": [],
   "source": [
    "Node *n=l.head->next->next"
   ]
  },
  {
   "cell_type": "code",
   "execution_count": 69,
   "id": "conditional-paint",
   "metadata": {},
   "outputs": [
    {
     "data": {
      "text/plain": [
       "5"
      ]
     },
     "execution_count": 69,
     "metadata": {},
     "output_type": "execute_result"
    }
   ],
   "source": [
    "n->prev->data"
   ]
  },
  {
   "cell_type": "code",
   "execution_count": null,
   "id": "accomplished-cardiff",
   "metadata": {},
   "outputs": [],
   "source": []
  }
 ],
 "metadata": {
  "kernelspec": {
   "display_name": "C++17",
   "language": "C++17",
   "name": "xcpp17"
  },
  "language_info": {
   "codemirror_mode": "text/x-c++src",
   "file_extension": ".cpp",
   "mimetype": "text/x-c++src",
   "name": "c++",
   "version": "17"
  }
 },
 "nbformat": 4,
 "nbformat_minor": 5
}
