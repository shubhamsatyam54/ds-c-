{
 "cells": [
  {
   "cell_type": "code",
   "execution_count": 2,
   "id": "challenging-frederick",
   "metadata": {},
   "outputs": [],
   "source": [
    "#include <iostream>\n",
    "#include <string>\n",
    "using namespace std;"
   ]
  },
  {
   "cell_type": "markdown",
   "id": "empty-subdivision",
   "metadata": {},
   "source": [
    "##### single inheritence"
   ]
  },
  {
   "cell_type": "code",
   "execution_count": 2,
   "id": "respective-settlement",
   "metadata": {},
   "outputs": [],
   "source": [
    "class laptop{\n",
    "    public:\n",
    "    int price;\n",
    "    int ram;\n",
    "}"
   ]
  },
  {
   "cell_type": "code",
   "execution_count": 3,
   "id": "stylish-table",
   "metadata": {},
   "outputs": [],
   "source": [
    "class device : public laptop{\n",
    "    public:\n",
    "    void display() {\n",
    "        cout <<\"\\nThis is a device\";\n",
    "    }\n",
    "}"
   ]
  },
  {
   "cell_type": "code",
   "execution_count": 4,
   "id": "italian-dependence",
   "metadata": {},
   "outputs": [
    {
     "name": "stdout",
     "output_type": "stream",
     "text": [
      "device cost = 40000\n",
      "device ram = 5\n",
      "This is a device"
     ]
    }
   ],
   "source": [
    "device obj1;\n",
    "obj1.price=40000;\n",
    "obj1.ram=5;\n",
    "cout <<\"device cost = \"<<obj1.price;\n",
    "cout <<\"\\ndevice ram = \"<<obj1.ram;\n",
    "obj1.display()"
   ]
  },
  {
   "cell_type": "markdown",
   "id": "documentary-indian",
   "metadata": {},
   "source": [
    "##### multiple inheritance"
   ]
  },
  {
   "cell_type": "code",
   "execution_count": 7,
   "id": "accomplished-volleyball",
   "metadata": {},
   "outputs": [],
   "source": [
    "class laptop{\n",
    "    protected:\n",
    "    int cost=40000;\n",
    "    int storage = 512;\n",
    "    int ram=8;\n",
    "    string type=\"gaming laptop\";\n",
    "    void laptop_details()\n",
    "    {\n",
    "        cout << \"laptop details : \" << endl; \n",
    "        cout << \"ram : \" << ram << endl; \n",
    "        cout << \"storage : \" << storage << endl;\n",
    "        cout << \"laptop  type : \" << type << endl;\n",
    "        cout << \"cost : \" << cost << endl; \n",
    "    }\n",
    "}"
   ]
  },
  {
   "cell_type": "code",
   "execution_count": 8,
   "id": "applied-belief",
   "metadata": {},
   "outputs": [],
   "source": [
    "class mobile{\n",
    "    protected:\n",
    "    int x;\n",
    "    int cost=10000;\n",
    "    int storage = 64;\n",
    "    int ram=4;\n",
    "    string display = \"amoled\";\n",
    "    void mobile_details(){\n",
    "        cout << \"mobile details : \" << endl; \n",
    "        cout << \"ram : \" << ram << endl; \n",
    "        cout << \"storage : \" << storage << endl;\n",
    "        cout << \"display type : \" << display << endl;\n",
    "        cout << \"cost : \" << cost << endl; \n",
    "    }\n",
    "    \n",
    "}"
   ]
  },
  {
   "cell_type": "code",
   "execution_count": 9,
   "id": "leading-footage",
   "metadata": {},
   "outputs": [],
   "source": [
    "class device : public laptop, public mobile{\n",
    "    public:\n",
    "    void display(){\n",
    "        mobile_details();\n",
    "        cout  << endl;\n",
    "        laptop_details();\n",
    "    }\n",
    "    \n",
    "}"
   ]
  },
  {
   "cell_type": "code",
   "execution_count": 10,
   "id": "hired-bradford",
   "metadata": {},
   "outputs": [
    {
     "name": "stdout",
     "output_type": "stream",
     "text": [
      "mobile details : \n",
      "ram : 4\n",
      "storage : 64\n",
      "display type : amoled\n",
      "cost : 10000\n",
      "\n",
      "laptop details : \n",
      "ram : 8\n",
      "storage : 512\n",
      "laptop  type : gaming laptop\n",
      "cost : 40000\n"
     ]
    }
   ],
   "source": [
    "device dvc;\n",
    "dvc.display()"
   ]
  },
  {
   "cell_type": "markdown",
   "id": "thermal-insider",
   "metadata": {},
   "source": [
    "##### mutlilevel inheritance"
   ]
  },
  {
   "cell_type": "code",
   "execution_count": 11,
   "id": "latin-clock",
   "metadata": {},
   "outputs": [],
   "source": [
    "class house_interior{\n",
    "    protected:\n",
    "    int cupboards = 5;\n",
    "    int beds = 6;\n",
    "}"
   ]
  },
  {
   "cell_type": "code",
   "execution_count": 12,
   "id": "hollow-church",
   "metadata": {},
   "outputs": [],
   "source": [
    "class house_exterior : public house_interior{\n",
    "    protected:\n",
    "    string type = \"2BHK\";\n",
    "    int cost = 5000000;\n",
    "}"
   ]
  },
  {
   "cell_type": "code",
   "execution_count": 15,
   "id": "buried-chrome",
   "metadata": {},
   "outputs": [],
   "source": [
    "class house_details : public house_exterior{\n",
    "    public:\n",
    "    void display(){\n",
    "        cout << \"No. of cupboards : \" << cupboards << endl;\n",
    "        cout << \"No. of bed : \" << beds << endl; \n",
    "        cout << \"Types : \" << type << endl; \n",
    "        cout << \"Cost : \" << cost << endl; \n",
    "    }\n",
    "}"
   ]
  },
  {
   "cell_type": "code",
   "execution_count": 16,
   "id": "nervous-federal",
   "metadata": {},
   "outputs": [
    {
     "name": "stdout",
     "output_type": "stream",
     "text": [
      "No. of cupboards : 5\n",
      "No. of bed : 6\n",
      "Types : 2BHK\n",
      "Cost : 5000000\n"
     ]
    }
   ],
   "source": [
    "house_details home;\n",
    "home.display();"
   ]
  },
  {
   "cell_type": "markdown",
   "id": "stone-pathology",
   "metadata": {},
   "source": [
    "##### hierarchical inheritance"
   ]
  },
  {
   "cell_type": "code",
   "execution_count": 3,
   "id": "academic-amino",
   "metadata": {},
   "outputs": [],
   "source": [
    "class feature{\n",
    "    public:\n",
    "    string processor;\n",
    "    int storage;\n",
    "    int ram;\n",
    "    int screen_size;\n",
    "    int cost;\n",
    "}"
   ]
  },
  {
   "cell_type": "code",
   "execution_count": 4,
   "id": "suspended-wales",
   "metadata": {},
   "outputs": [],
   "source": [
    "class mobile : public feature{\n",
    "    \n",
    "    string screen_type=\"amoled\";\n",
    "}"
   ]
  },
  {
   "cell_type": "code",
   "execution_count": 5,
   "id": "authorized-sustainability",
   "metadata": {},
   "outputs": [],
   "source": [
    "class laptop : public feature{\n",
    "    string type=\"gaming laptop\";\n",
    "}"
   ]
  },
  {
   "cell_type": "code",
   "execution_count": 6,
   "id": "green-connectivity",
   "metadata": {},
   "outputs": [],
   "source": [
    "class mobile_details : public mobile{\n",
    "    processor=\"snapdragon\";\n",
    "    storage=64;\n",
    "    ram=4;\n",
    "    screen_size=6;\n",
    "    cost=12000;\n",
    "    void display_mobile_details(){\n",
    "        cout << \"mobile details : \" << endl; \n",
    "        cout << \"ram : \" << ram << endl; \n",
    "        cout << \"storage : \" << storage << endl;\n",
    "        cout << \"display type : \" << display << endl;\n",
    "        cout << \"display size : \" << screen_size << endl;\n",
    "        cout << \"cost : \" << cost << endl; \n",
    "    }\n",
    "}"
   ]
  },
  {
   "cell_type": "code",
   "execution_count": 7,
   "id": "painted-handle",
   "metadata": {},
   "outputs": [
    {
     "name": "stderr",
     "output_type": "stream",
     "text": [
      "input_line_14:2:5: error: C++ requires a type specifier for all declarations\n",
      "    processor=\"intel\";\n",
      "    ^\n",
      "input_line_14:3:5: error: C++ requires a type specifier for all declarations\n",
      "    storage=512;\n",
      "    ^\n",
      "input_line_14:4:5: error: C++ requires a type specifier for all declarations\n",
      "    ram=8;\n",
      "    ^\n",
      "input_line_14:5:5: error: C++ requires a type specifier for all declarations\n",
      "    screen_size=15;\n",
      "    ^\n",
      "input_line_14:6:5: error: C++ requires a type specifier for all declarations\n",
      "    cost=58000;\n",
      "    ^\n",
      "input_line_14:12:38: error: 'type' is a private member of '__cling_N55::laptop'\n",
      "        cout << \"laptop  type : \" << type << endl;\n",
      "                                     ^\n",
      "input_line_12:2:12: note: implicitly declared private here\n",
      "    string type=\"gaming laptop\";\n",
      "           ^\n"
     ]
    },
    {
     "ename": "Interpreter Error",
     "evalue": "",
     "output_type": "error",
     "traceback": [
      "Interpreter Error: "
     ]
    }
   ],
   "source": [
    "class laptop_details : public laptop{\n",
    "    processor=\"intel\";\n",
    "    storage=512;\n",
    "    ram=8;\n",
    "    screen_size=15;\n",
    "    cost=58000;\n",
    "     void display_laptop_details()\n",
    "    {\n",
    "        cout << \"laptop details : \" << endl; \n",
    "        cout << \"ram : \" << ram << endl; \n",
    "        cout << \"storage : \" << storage << endl;\n",
    "        cout << \"laptop  type : \" << type << endl;\n",
    "        cout << \"display size : \" << screen_size << endl;\n",
    "        cout << \"cost : \" << cost << endl; \n",
    "    }\n",
    "}"
   ]
  },
  {
   "cell_type": "code",
   "execution_count": null,
   "id": "adjusted-shopper",
   "metadata": {},
   "outputs": [],
   "source": []
  }
 ],
 "metadata": {
  "kernelspec": {
   "display_name": "C++17",
   "language": "C++17",
   "name": "xcpp17"
  },
  "language_info": {
   "codemirror_mode": "text/x-c++src",
   "file_extension": ".cpp",
   "mimetype": "text/x-c++src",
   "name": "c++",
   "version": "17"
  }
 },
 "nbformat": 4,
 "nbformat_minor": 5
}
