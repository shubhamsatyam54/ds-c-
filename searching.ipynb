{
 "cells": [
  {
   "cell_type": "code",
   "execution_count": 8,
   "id": "limited-orleans",
   "metadata": {},
   "outputs": [],
   "source": [
    "#include <iostream>\n",
    "#include <string>\n",
    "using namespace std;"
   ]
  },
  {
   "cell_type": "markdown",
   "id": "infrared-success",
   "metadata": {},
   "source": [
    "# Linear search"
   ]
  },
  {
   "cell_type": "code",
   "execution_count": 9,
   "id": "regular-wagner",
   "metadata": {},
   "outputs": [
    {
     "name": "stderr",
     "output_type": "stream",
     "text": [
      "input_line_18:10:52: error: reference to overloaded function could not be resolved; did you mean to call it?\n",
      "        cout<<\"element \"<< element<< \" not found\"<<endl;\n",
      "                                                   ^~~~\n",
      "/srv/conda/envs/notebook/bin/../lib/gcc/x86_64-conda-linux-gnu/9.3.0/../../../../x86_64-conda-linux-gnu/include/c++/9.3.0/ostream:599:5: note: possible target for call\n",
      "    endl(basic_ostream<_CharT, _Traits>& __os)\n",
      "    ^\n",
      "/srv/conda/envs/notebook/bin/../lib/gcc/x86_64-conda-linux-gnu/9.3.0/../../../../x86_64-conda-linux-gnu/include/c++/9.3.0/ostream:245:7: note: candidate function not viable: no overload of 'endl' matching 'const void *' for 1st argument\n",
      "      operator<<(const void* __p)\n",
      "      ^\n",
      "/srv/conda/envs/notebook/bin/../lib/gcc/x86_64-conda-linux-gnu/9.3.0/../../../../x86_64-conda-linux-gnu/include/c++/9.3.0/string_view:582:5: note: candidate function [with _CharT = char, _Traits = std::char_traits<char>] not viable: no overload of 'endl' matching 'basic_string_view<char, std::char_traits<char> >' for 2nd argument\n",
      "    operator<<(basic_ostream<_CharT, _Traits>& __os,\n",
      "    ^\n",
      "/srv/conda/envs/notebook/bin/../lib/gcc/x86_64-conda-linux-gnu/9.3.0/../../../../x86_64-conda-linux-gnu/include/c++/9.3.0/system_error:217:5: note: candidate function not viable: no overload of 'endl' matching 'const std::error_code' for 2nd argument\n",
      "    operator<<(basic_ostream<_CharT, _Traits>& __os, const error_code& __e)\n",
      "    ^\n",
      "/srv/conda/envs/notebook/bin/../lib/gcc/x86_64-conda-linux-gnu/9.3.0/../../../../x86_64-conda-linux-gnu/include/c++/9.3.0/ostream:117:7: note: candidate function not viable: no overload of 'endl' matching 'std::basic_ostream<char, std::char_traits<char> >::__ios_type &(*)(std::basic_ostream<char, std::char_traits<char> >::__ios_type &)' (aka 'basic_ios<char, std::char_traits<char> > &(*)(basic_ios<char, std::char_traits<char> > &)') for 1st argument\n",
      "      operator<<(__ios_type& (*__pf)(__ios_type&))\n",
      "      ^\n",
      "/srv/conda/envs/notebook/bin/../lib/gcc/x86_64-conda-linux-gnu/9.3.0/../../../../x86_64-conda-linux-gnu/include/c++/9.3.0/ostream:127:7: note: candidate function not viable: no overload of 'endl' matching 'std::ios_base &(*)(std::ios_base &)' for 1st argument\n",
      "      operator<<(ios_base& (*__pf) (ios_base&))\n",
      "      ^\n",
      "/srv/conda/envs/notebook/bin/../lib/gcc/x86_64-conda-linux-gnu/9.3.0/../../../../x86_64-conda-linux-gnu/include/c++/9.3.0/ostream:166:7: note: candidate function not viable: no overload of 'endl' matching 'long' for 1st argument\n",
      "      operator<<(long __n)\n",
      "      ^\n",
      "/srv/conda/envs/notebook/bin/../lib/gcc/x86_64-conda-linux-gnu/9.3.0/../../../../x86_64-conda-linux-gnu/include/c++/9.3.0/ostream:170:7: note: candidate function not viable: no overload of 'endl' matching 'unsigned long' for 1st argument\n",
      "      operator<<(unsigned long __n)\n",
      "      ^\n",
      "/srv/conda/envs/notebook/bin/../lib/gcc/x86_64-conda-linux-gnu/9.3.0/../../../../x86_64-conda-linux-gnu/include/c++/9.3.0/ostream:174:7: note: candidate function not viable: no overload of 'endl' matching 'bool' for 1st argument\n",
      "      operator<<(bool __n)\n",
      "      ^\n",
      "/srv/conda/envs/notebook/bin/../lib/gcc/x86_64-conda-linux-gnu/9.3.0/../../../../x86_64-conda-linux-gnu/include/c++/9.3.0/ostream:178:7: note: candidate function not viable: no overload of 'endl' matching 'short' for 1st argument\n",
      "      operator<<(short __n);\n",
      "      ^\n",
      "/srv/conda/envs/notebook/bin/../lib/gcc/x86_64-conda-linux-gnu/9.3.0/../../../../x86_64-conda-linux-gnu/include/c++/9.3.0/ostream:181:7: note: candidate function not viable: no overload of 'endl' matching 'unsigned short' for 1st argument\n",
      "      operator<<(unsigned short __n)\n",
      "      ^\n",
      "/srv/conda/envs/notebook/bin/../lib/gcc/x86_64-conda-linux-gnu/9.3.0/../../../../x86_64-conda-linux-gnu/include/c++/9.3.0/ostream:189:7: note: candidate function not viable: no overload of 'endl' matching 'int' for 1st argument\n",
      "      operator<<(int __n);\n",
      "      ^\n",
      "/srv/conda/envs/notebook/bin/../lib/gcc/x86_64-conda-linux-gnu/9.3.0/../../../../x86_64-conda-linux-gnu/include/c++/9.3.0/ostream:192:7: note: candidate function not viable: no overload of 'endl' matching 'unsigned int' for 1st argument\n",
      "      operator<<(unsigned int __n)\n",
      "      ^\n",
      "/srv/conda/envs/notebook/bin/../lib/gcc/x86_64-conda-linux-gnu/9.3.0/../../../../x86_64-conda-linux-gnu/include/c++/9.3.0/ostream:201:7: note: candidate function not viable: no overload of 'endl' matching 'long long' for 1st argument\n",
      "      operator<<(long long __n)\n",
      "      ^\n",
      "/srv/conda/envs/notebook/bin/../lib/gcc/x86_64-conda-linux-gnu/9.3.0/../../../../x86_64-conda-linux-gnu/include/c++/9.3.0/ostream:205:7: note: candidate function not viable: no overload of 'endl' matching 'unsigned long long' for 1st argument\n",
      "      operator<<(unsigned long long __n)\n",
      "      ^\n",
      "/srv/conda/envs/notebook/bin/../lib/gcc/x86_64-conda-linux-gnu/9.3.0/../../../../x86_64-conda-linux-gnu/include/c++/9.3.0/ostream:220:7: note: candidate function not viable: no overload of 'endl' matching 'double' for 1st argument\n",
      "      operator<<(double __f)\n",
      "      ^\n",
      "/srv/conda/envs/notebook/bin/../lib/gcc/x86_64-conda-linux-gnu/9.3.0/../../../../x86_64-conda-linux-gnu/include/c++/9.3.0/ostream:224:7: note: candidate function not viable: no overload of 'endl' matching 'float' for 1st argument\n",
      "      operator<<(float __f)\n",
      "      ^\n",
      "/srv/conda/envs/notebook/bin/../lib/gcc/x86_64-conda-linux-gnu/9.3.0/../../../../x86_64-conda-linux-gnu/include/c++/9.3.0/ostream:232:7: note: candidate function not viable: no overload of 'endl' matching 'long double' for 1st argument\n",
      "      operator<<(long double __f)\n",
      "      ^\n",
      "/srv/conda/envs/notebook/bin/../lib/gcc/x86_64-conda-linux-gnu/9.3.0/../../../../x86_64-conda-linux-gnu/include/c++/9.3.0/ostream:250:7: note: candidate function not viable: no overload of 'endl' matching 'std::nullptr_t' (aka 'nullptr_t') for 1st argument\n",
      "      operator<<(nullptr_t)\n",
      "      ^\n",
      "/srv/conda/envs/notebook/bin/../lib/gcc/x86_64-conda-linux-gnu/9.3.0/../../../../x86_64-conda-linux-gnu/include/c++/9.3.0/ostream:276:7: note: candidate function not viable: no overload of 'endl' matching 'std::basic_ostream<char, std::char_traits<char> >::__streambuf_type *' (aka 'basic_streambuf<char, std::char_traits<char> > *') for 1st argument\n",
      "      operator<<(__streambuf_type* __sb);\n",
      "      ^\n",
      "/srv/conda/envs/notebook/bin/../lib/gcc/x86_64-conda-linux-gnu/9.3.0/../../../../x86_64-conda-linux-gnu/include/c++/9.3.0/ostream:506:5: note: candidate function [with _CharT = char, _Traits = std::char_traits<char>] not viable: no overload of 'endl' matching 'char' for 2nd argument\n",
      "    operator<<(basic_ostream<_CharT, _Traits>& __out, _CharT __c)\n",
      "    ^\n",
      "/srv/conda/envs/notebook/bin/../lib/gcc/x86_64-conda-linux-gnu/9.3.0/../../../../x86_64-conda-linux-gnu/include/c++/9.3.0/ostream:511:5: note: candidate function not viable: no overload of 'endl' matching 'char' for 2nd argument\n",
      "    operator<<(basic_ostream<_CharT, _Traits>& __out, char __c)\n",
      "    ^\n",
      "/srv/conda/envs/notebook/bin/../lib/gcc/x86_64-conda-linux-gnu/9.3.0/../../../../x86_64-conda-linux-gnu/include/c++/9.3.0/ostream:517:5: note: candidate function not viable: no overload of 'endl' matching 'char' for 2nd argument\n",
      "    operator<<(basic_ostream<char, _Traits>& __out, char __c)\n",
      "    ^\n",
      "/srv/conda/envs/notebook/bin/../lib/gcc/x86_64-conda-linux-gnu/9.3.0/../../../../x86_64-conda-linux-gnu/include/c++/9.3.0/ostream:523:5: note: candidate function not viable: no overload of 'endl' matching 'signed char' for 2nd argument\n",
      "    operator<<(basic_ostream<char, _Traits>& __out, signed char __c)\n",
      "    ^\n",
      "/srv/conda/envs/notebook/bin/../lib/gcc/x86_64-conda-linux-gnu/9.3.0/../../../../x86_64-conda-linux-gnu/include/c++/9.3.0/ostream:528:5: note: candidate function not viable: no overload of 'endl' matching 'unsigned char' for 2nd argument\n",
      "    operator<<(basic_ostream<char, _Traits>& __out, unsigned char __c)\n",
      "    ^\n",
      "/srv/conda/envs/notebook/bin/../lib/gcc/x86_64-conda-linux-gnu/9.3.0/../../../../x86_64-conda-linux-gnu/include/c++/9.3.0/ostream:548:5: note: candidate function [with _CharT = char, _Traits = std::char_traits<char>] not viable: no overload of 'endl' matching 'const char *' for 2nd argument\n"
     ]
    },
    {
     "name": "stderr",
     "output_type": "stream",
     "text": [
      "    operator<<(basic_ostream<_CharT, _Traits>& __out, const _CharT* __s)\n",
      "    ^\n",
      "/srv/conda/envs/notebook/bin/../lib/gcc/x86_64-conda-linux-gnu/9.3.0/../../../../x86_64-conda-linux-gnu/include/c++/9.3.0/ostream:565:5: note: candidate function not viable: no overload of 'endl' matching 'const char *' for 2nd argument\n",
      "    operator<<(basic_ostream<char, _Traits>& __out, const char* __s)\n",
      "    ^\n",
      "/srv/conda/envs/notebook/bin/../lib/gcc/x86_64-conda-linux-gnu/9.3.0/../../../../x86_64-conda-linux-gnu/include/c++/9.3.0/ostream:578:5: note: candidate function not viable: no overload of 'endl' matching 'const signed char *' for 2nd argument\n",
      "    operator<<(basic_ostream<char, _Traits>& __out, const signed char* __s)\n",
      "    ^\n",
      "/srv/conda/envs/notebook/bin/../lib/gcc/x86_64-conda-linux-gnu/9.3.0/../../../../x86_64-conda-linux-gnu/include/c++/9.3.0/ostream:583:5: note: candidate function not viable: no overload of 'endl' matching 'const unsigned char *' for 2nd argument\n",
      "    operator<<(basic_ostream<char, _Traits>& __out, const unsigned char* __s)\n",
      "    ^\n",
      "/srv/conda/envs/notebook/bin/../lib/gcc/x86_64-conda-linux-gnu/9.3.0/../../../../x86_64-conda-linux-gnu/include/c++/9.3.0/bits/ostream.tcc:321:5: note: candidate function not viable: no overload of 'endl' matching 'const char *' for 2nd argument\n",
      "    operator<<(basic_ostream<_CharT, _Traits>& __out, const char* __s)\n",
      "    ^\n",
      "/srv/conda/envs/notebook/bin/../lib/gcc/x86_64-conda-linux-gnu/9.3.0/../../../../x86_64-conda-linux-gnu/include/c++/9.3.0/iomanip:79"
     ]
    }
   ],
   "source": [
    "void linear_srh( int arr[],int size, int element){\n",
    "    int indx=-1;\n",
    "    for(int i=0;i<size;i++){\n",
    "        if(arr[i]==element){\n",
    "            indx=i;\n",
    "            break;\n",
    "        }\n",
    "    }\n",
    "    if(indx==-1){\n",
    "        cout<<\"element \"<< element<< \" not found\"<<endl;\n",
    "    }\n",
    "    else{\n",
    "         cout<<\"element \"<< element<< \" found at postion : \"<<indx+1<< endl;\n",
    "    }\n",
    "}"
   ]
  },
  {
   "cell_type": "code",
   "execution_count": 3,
   "id": "interstate-mapping",
   "metadata": {},
   "outputs": [
    {
     "name": "stdout",
     "output_type": "stream",
     "text": [
      "element 4 found at postion : 4\n",
      "element 99 not found\n"
     ]
    }
   ],
   "source": [
    "int arr[]={1,5,8,4,6};\n",
    "linear_srh(arr,5,4);\n",
    "linear_srh(arr,5,99);"
   ]
  },
  {
   "cell_type": "markdown",
   "id": "rational-settlement",
   "metadata": {},
   "source": [
    "# Binary Search"
   ]
  },
  {
   "cell_type": "code",
   "execution_count": 4,
   "id": "celtic-leader",
   "metadata": {},
   "outputs": [],
   "source": [
    "void bub_sort(int arr[],int size){\n",
    "bool state = false;\n",
    "for(int i=0;i<size-1;i++){\n",
    "    for(int j=0;j<size-1;j++){\n",
    "        if(arr[j]>arr[j+1]){ \n",
    "            int temp=arr[j];\n",
    "            arr[j]=arr[j+1];\n",
    "            arr[j+1]=temp;\n",
    "            state=true;\n",
    "        }\n",
    "    }\n",
    "    if (state==false){\n",
    "            break;\n",
    "        }\n",
    "        state=false;\n",
    "}   \n",
    "}"
   ]
  },
  {
   "cell_type": "code",
   "execution_count": 18,
   "id": "documentary-editor",
   "metadata": {},
   "outputs": [],
   "source": [
    "void binary_srh(int arr[],int size,int element){\n",
    "    int low=0;\n",
    "    int high=size-1;\n",
    "    int temp;\n",
    "    while(low<=high){\n",
    "        int indx=(low+high)/2;\n",
    "        temp=arr[indx];\n",
    "        if(temp==element){\n",
    "          return indx;\n",
    "        }\n",
    "        else if(element<temp) {\n",
    "            high=indx-1;\n",
    "        }\n",
    "        else if(element>temp){\n",
    "            low=indx+1;\n",
    "        }\n",
    "    }\n",
    "    return -1;\n",
    "}"
   ]
  },
  {
   "cell_type": "code",
   "execution_count": 11,
   "id": "developmental-means",
   "metadata": {},
   "outputs": [],
   "source": [
    "int main(){\n",
    "int size;\n",
    "int element;\n",
    "cout<<\"Enter the size of array : \";\n",
    "cin>>size;\n",
    "int arr[size];\n",
    "for(int i=0;i<size;i++){\n",
    "    cin>>arr[i];\n",
    "}\n",
    "bub_sort(arr,size);\n",
    "cout<<\"Sorted array : \";\n",
    "for(int i=0;i<size;i++){\n",
    "    cout<<arr[i]<<\" \";\n",
    "}\n",
    "cout<<\"\\n Enter the elemnt to search : \";\n",
    "cin>>element;\n",
    "    \n",
    "binary_srh(arr,size,element);\n",
    "    return 0;\n",
    "}"
   ]
  },
  {
   "cell_type": "code",
   "execution_count": 16,
   "id": "logical-tanzania",
   "metadata": {},
   "outputs": [
    {
     "name": "stdout",
     "output_type": "stream",
     "text": [
      "Enter the size of array : 3\n",
      "1 5 2\n",
      "Sorted array : 1 2 5 \n",
      " Enter the elemnt to search : 2\n",
      "element found at : 1\n"
     ]
    },
    {
     "data": {
      "text/plain": [
       "0"
      ]
     },
     "execution_count": 16,
     "metadata": {},
     "output_type": "execute_result"
    }
   ],
   "source": [
    "main()"
   ]
  },
  {
   "cell_type": "code",
   "execution_count": null,
   "id": "traditional-distinction",
   "metadata": {},
   "outputs": [],
   "source": []
  }
 ],
 "metadata": {
  "kernelspec": {
   "display_name": "C++17",
   "language": "C++17",
   "name": "xcpp17"
  },
  "language_info": {
   "codemirror_mode": "text/x-c++src",
   "file_extension": ".cpp",
   "mimetype": "text/x-c++src",
   "name": "c++",
   "version": "17"
  }
 },
 "nbformat": 4,
 "nbformat_minor": 5
}
