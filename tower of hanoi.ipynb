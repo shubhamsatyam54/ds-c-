{
 "cells": [
  {
   "cell_type": "code",
   "execution_count": 1,
   "id": "comprehensive-starter",
   "metadata": {},
   "outputs": [],
   "source": [
    "#include <iostream>\n",
    "#include <string>\n",
    "#include <bits/stdc++.h>\n",
    "using namespace std;"
   ]
  },
  {
   "cell_type": "code",
   "execution_count": 3,
   "id": "dimensional-perry",
   "metadata": {},
   "outputs": [],
   "source": [
    "#include \"stack.cpp\""
   ]
  },
  {
   "cell_type": "code",
   "execution_count": 5,
   "id": "cultural-adventure",
   "metadata": {},
   "outputs": [
    {
     "name": "stdout",
     "output_type": "stream",
     "text": [
      "5\n"
     ]
    }
   ],
   "source": [
    "Stack st;\n",
    "st.push(5);\n",
    "cout<<st.peek()<<endl;"
   ]
  },
  {
   "cell_type": "code",
   "execution_count": 11,
   "id": "returning-warren",
   "metadata": {},
   "outputs": [
    {
     "name": "stdout",
     "output_type": "stream",
     "text": [
      "3\n"
     ]
    }
   ],
   "source": [
    "Stack S;\n",
    "Stack A;\n",
    "Stack D;\n",
    "S.push(1);\n",
    "S.push(2);\n",
    "S.push(3);\n",
    "cout<<S.peek()<<endl;"
   ]
  },
  {
   "cell_type": "code",
   "execution_count": 11,
   "id": "soviet-fusion",
   "metadata": {},
   "outputs": [
    {
     "name": "stdout",
     "output_type": "stream",
     "text": [
      "moved 1 from A to B\n",
      "moved 2 from A to C\n",
      "moved 3 from A to B\n"
     ]
    }
   ],
   "source": [
    "int n=2;\n",
    "for(int i=1;i<=x;i++){\n",
    "    if(i%3==0){\n",
    "        if(A.peek()>D.peek){\n",
    "        cout<<\"moved \"<<A.peek()<<\" from S to D\"<<endl;\n",
    "            D.push(A.peek);\n",
    "            A.pop();\n",
    "        }\n",
    "        else{\n",
    "           cout<<\"moved \"<<D.peek()<<\" from D to S\"<<endl;\n",
    "            A.push(D.peek);\n",
    "            D.pop();\n",
    "        }\n",
    "    }\n",
    "    if(i%3==2){\n",
    "        if(S.peek()>A.peek){\n",
    "        cout<<\"moved \"<<S.peek()<<\" from S to D\"<<endl;\n",
    "            A.push(S.peek);\n",
    "            S.pop();\n",
    "        }\n",
    "        else{\n",
    "           cout<<\"moved \"<<A.peek()<<\" from D to S\"<<endl;\n",
    "            S.push(A.peek);\n",
    "            A.pop();\n",
    "        }\n",
    "    }\n",
    "    if(i%3==1){\n",
    "        if(A.peek()>D.peek){\n",
    "        cout<<\"moved \"<<A.peek()<<\" from S to D\"<<endl;\n",
    "            D.push(A.peek);\n",
    "            A.pop();\n",
    "        }\n",
    "        else{\n",
    "           cout<<\"moved \"<<D.peek()<<\" from D to S\"<<endl;\n",
    "            A.push(D.peek);\n",
    "            D.pop();\n",
    "        }\n",
    "    }\n",
    "}"
   ]
  },
  {
   "cell_type": "code",
   "execution_count": 9,
   "id": "sapphire-speech",
   "metadata": {},
   "outputs": [],
   "source": [
    "int x=(int)pow(2,n)-1;"
   ]
  },
  {
   "cell_type": "code",
   "execution_count": null,
   "id": "rising-ribbon",
   "metadata": {},
   "outputs": [],
   "source": []
  }
 ],
 "metadata": {
  "kernelspec": {
   "display_name": "C++17",
   "language": "C++17",
   "name": "xcpp17"
  },
  "language_info": {
   "codemirror_mode": "text/x-c++src",
   "file_extension": ".cpp",
   "mimetype": "text/x-c++src",
   "name": "c++",
   "version": "17"
  }
 },
 "nbformat": 4,
 "nbformat_minor": 5
}
