{
 "cells": [
  {
   "cell_type": "code",
   "execution_count": 1,
   "id": "expressed-spending",
   "metadata": {},
   "outputs": [],
   "source": [
    "#include <bits/stdc++.h>\n",
    "using namespace std;\n",
    "#define V 5 "
   ]
  },
  {
   "cell_type": "code",
   "execution_count": 2,
   "id": "immune-spain",
   "metadata": {},
   "outputs": [],
   "source": [
    "int minKey(int key[], bool mstSet[]) \n",
    "{ \n",
    "    int min = INT_MAX, min_index; \n",
    "  \n",
    "    for (int v = 0; v < V; v++) \n",
    "        if (mstSet[v] == false && key[v] < min) \n",
    "            min = key[v], min_index = v; \n",
    "  \n",
    "    return min_index; \n",
    "} "
   ]
  },
  {
   "cell_type": "code",
   "execution_count": 5,
   "id": "retained-incident",
   "metadata": {},
   "outputs": [],
   "source": [
    "void printMST(int parent[], int graph[V][V]) \n",
    "{ \n",
    "    cout<<\"Edge \\tWeight\\n\"; \n",
    "    for (int i = 1; i < V; i++) \n",
    "        cout<<parent[i]<<\" - \"<<i<<\" \\t\"<<graph[i][parent[i]]<<\" \\n\"; \n",
    "} "
   ]
  },
  {
   "cell_type": "code",
   "execution_count": 6,
   "id": "creative-reform",
   "metadata": {},
   "outputs": [],
   "source": [
    "void primMST(int graph[V][V]) \n",
    "{ \n",
    "    \n",
    "    int parent[V];  \n",
    "    int key[V]; \n",
    "    bool mstSet[V]; \n",
    "    for (int i = 0; i < V; i++) \n",
    "        key[i] = INT_MAX, mstSet[i] = false; \n",
    "    key[0] = 0; \n",
    "    parent[0] = -1; \n",
    "    for (int count = 0; count < V - 1; count++)\n",
    "    { \n",
    "        int u = minKey(key, mstSet); \n",
    "        mstSet[u] = true;\n",
    "        for (int v = 0; v < V; v++) \n",
    "            if (graph[u][v] && mstSet[v] == false && graph[u][v] < key[v]) \n",
    "                parent[v] = u, key[v] = graph[u][v]; \n",
    "    } \n",
    "    printMST(parent, graph); \n",
    "} "
   ]
  },
  {
   "cell_type": "code",
   "execution_count": 10,
   "id": "aboriginal-invite",
   "metadata": {},
   "outputs": [
    {
     "name": "stdout",
     "output_type": "stream",
     "text": [
      "Edge \tWeight\n",
      "0 - 1 \t2 \n",
      "1 - 2 \t3 \n",
      "0 - 3 \t6 \n",
      "1 - 4 \t5 \n"
     ]
    }
   ],
   "source": [
    "int graph[V][V] = { { 0, 2, 0, 6, 0 }, \n",
    "                    { 2, 0, 3, 8, 5 }, \n",
    "                    { 0, 3, 0, 0, 7 }, \n",
    "                    { 6, 8, 0, 0, 9 }, \n",
    "                    { 0, 5, 7, 9, 0 } }; \n",
    "\n",
    "primMST(graph);  "
   ]
  },
  {
   "cell_type": "code",
   "execution_count": null,
   "id": "solved-boundary",
   "metadata": {},
   "outputs": [],
   "source": []
  }
 ],
 "metadata": {
  "kernelspec": {
   "display_name": "C++17",
   "language": "C++17",
   "name": "xcpp17"
  },
  "language_info": {
   "codemirror_mode": "text/x-c++src",
   "file_extension": ".cpp",
   "mimetype": "text/x-c++src",
   "name": "c++",
   "version": "17"
  }
 },
 "nbformat": 4,
 "nbformat_minor": 5
}
