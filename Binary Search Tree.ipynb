{
 "cells": [
  {
   "cell_type": "code",
   "execution_count": 1,
   "id": "referenced-parks",
   "metadata": {},
   "outputs": [],
   "source": [
    "#include <iostream>\n",
    "using namespace std;"
   ]
  },
  {
   "cell_type": "code",
   "execution_count": 2,
   "id": "certified-filename",
   "metadata": {},
   "outputs": [],
   "source": [
    "class Node{\n",
    "    public:\n",
    "    int data;\n",
    "    Node *left;\n",
    "    Node *right;\n",
    "    Node(int x){\n",
    "        data=x;\n",
    "        left=NULL;\n",
    "        right=NULL;\n",
    "    }\n",
    "}"
   ]
  },
  {
   "cell_type": "code",
   "execution_count": 3,
   "id": "comparable-detail",
   "metadata": {},
   "outputs": [],
   "source": [
    "class tree{\n",
    "    public:\n",
    "    Node *root;\n",
    "    tree(){\n",
    "        root=NULL;\n",
    "    }\n",
    "    void insert(int x);\n",
    "    void search(int x);\n",
    "    void inorder(Node *temp);\n",
    "    void preorder(Node *temp);\n",
    "    void postorder(Node *temp);\n",
    "}"
   ]
  },
  {
   "cell_type": "code",
   "execution_count": 4,
   "id": "constant-labor",
   "metadata": {},
   "outputs": [],
   "source": [
    "void tree::insert(int x){\n",
    "    Node *dt=new Node(x);\n",
    "    if(root==NULL){\n",
    "        root=dt;\n",
    "    }\n",
    "    else{\n",
    "            Node* temp=root; \n",
    "            while(temp!=NULL){\n",
    "            if(temp->data==x){\n",
    "                cout<<\"Data already exist\";\n",
    "                return;\n",
    "            }\n",
    "            else if(temp->data>x){\n",
    "                if(temp->left==NULL){\n",
    "                   temp->left=dt;\n",
    "                    return;\n",
    "                }\n",
    "                else\n",
    "                temp=temp->left;\n",
    "            }\n",
    "            else if(temp->data<x){\n",
    "                if(temp->right==NULL){\n",
    "                    temp->right=dt;\n",
    "                    return;\n",
    "                }\n",
    "                else\n",
    "                temp=temp->right;\n",
    "            }\n",
    "        }\n",
    "    }\n",
    "}"
   ]
  },
  {
   "cell_type": "code",
   "execution_count": 5,
   "id": "spanish-writing",
   "metadata": {},
   "outputs": [],
   "source": [
    "void tree::search(int x){\n",
    "            Node* temp=root; \n",
    "            while(temp!=NULL){\n",
    "            if(temp->data==x){\n",
    "                cout<<\"Data Found\";\n",
    "                return;\n",
    "            }\n",
    "            else if(temp->data>x){\n",
    "                temp=temp->left;\n",
    "            }\n",
    "            else if(temp->data<x){\n",
    "                temp=temp->right;\n",
    "            }\n",
    "        }\n",
    "    cout<<\"Data Not Found\";\n",
    "}"
   ]
  },
  {
   "cell_type": "markdown",
   "id": "bulgarian-blind",
   "metadata": {},
   "source": [
    "# traversal"
   ]
  },
  {
   "cell_type": "markdown",
   "id": "ideal-pepper",
   "metadata": {},
   "source": [
    "### inorder"
   ]
  },
  {
   "cell_type": "code",
   "execution_count": 6,
   "id": "innocent-assignment",
   "metadata": {
    "scrolled": true
   },
   "outputs": [],
   "source": [
    "void tree::inorder(Node *temp){\n",
    "     if (temp == NULL)\n",
    "        return;\n",
    " \n",
    "    inorder(temp->left);\n",
    "    cout << temp->data << \" \";\n",
    "    inorder(temp->right);\n",
    "    \n",
    "}"
   ]
  },
  {
   "cell_type": "code",
   "execution_count": 7,
   "id": "finished-influence",
   "metadata": {},
   "outputs": [],
   "source": [
    "void tree::preorder(Node *temp){\n",
    "     if (temp == NULL)\n",
    "        return;\n",
    "    cout << temp->data << \" \";\n",
    "    inorder(temp->left);\n",
    "    inorder(temp->right);\n",
    "    \n",
    "}"
   ]
  },
  {
   "cell_type": "code",
   "execution_count": 8,
   "id": "serious-restoration",
   "metadata": {},
   "outputs": [],
   "source": [
    "void tree::postorder(Node *temp){\n",
    "     if (temp == NULL)\n",
    "        return;\n",
    " \n",
    "    inorder(temp->left);  \n",
    "    inorder(temp->right);\n",
    "    cout << temp->data << \" \";\n",
    "}"
   ]
  },
  {
   "cell_type": "code",
   "execution_count": 9,
   "id": "furnished-texture",
   "metadata": {},
   "outputs": [],
   "source": [
    "tree t;\n",
    "t.insert(5);\n",
    "t.insert(7);\n",
    "t.insert(2);\n",
    "t.insert(9);"
   ]
  },
  {
   "cell_type": "code",
   "execution_count": 10,
   "id": "fifth-season",
   "metadata": {},
   "outputs": [
    {
     "name": "stdout",
     "output_type": "stream",
     "text": [
      "Data Found"
     ]
    }
   ],
   "source": [
    "t.search(5);"
   ]
  },
  {
   "cell_type": "code",
   "execution_count": 11,
   "id": "useful-tooth",
   "metadata": {},
   "outputs": [
    {
     "name": "stdout",
     "output_type": "stream",
     "text": [
      "Data Not Found"
     ]
    }
   ],
   "source": [
    "t.search(1);"
   ]
  },
  {
   "cell_type": "code",
   "execution_count": 12,
   "id": "anonymous-green",
   "metadata": {},
   "outputs": [
    {
     "name": "stdout",
     "output_type": "stream",
     "text": [
      "2 5 7 9 "
     ]
    }
   ],
   "source": [
    "t.inorder(t.root)"
   ]
  },
  {
   "cell_type": "code",
   "execution_count": 13,
   "id": "furnished-cylinder",
   "metadata": {},
   "outputs": [
    {
     "name": "stdout",
     "output_type": "stream",
     "text": [
      "5 2 7 9 "
     ]
    }
   ],
   "source": [
    "t.preorder(t.root)"
   ]
  },
  {
   "cell_type": "code",
   "execution_count": 14,
   "id": "selected-central",
   "metadata": {},
   "outputs": [
    {
     "name": "stdout",
     "output_type": "stream",
     "text": [
      "2 7 9 5 "
     ]
    }
   ],
   "source": [
    "t.postorder(t.root)"
   ]
  }
 ],
 "metadata": {
  "kernelspec": {
   "display_name": "C++17",
   "language": "C++17",
   "name": "xcpp17"
  },
  "language_info": {
   "codemirror_mode": "text/x-c++src",
   "file_extension": ".cpp",
   "mimetype": "text/x-c++src",
   "name": "c++",
   "version": "17"
  }
 },
 "nbformat": 4,
 "nbformat_minor": 5
}
