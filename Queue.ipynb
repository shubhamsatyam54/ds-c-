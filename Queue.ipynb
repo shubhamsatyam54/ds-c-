{
 "cells": [
  {
   "cell_type": "code",
   "execution_count": 44,
   "id": "speaking-dialogue",
   "metadata": {},
   "outputs": [],
   "source": [
    "#include <iostream>\n",
    "using namespace std;"
   ]
  },
  {
   "cell_type": "code",
   "execution_count": 45,
   "id": "equal-bahrain",
   "metadata": {},
   "outputs": [],
   "source": [
    "class Queue {\n",
    "    public:\n",
    "    int front, rear, capacity;\n",
    "    int* queue;\n",
    "    Queue(int c)\n",
    "    {\n",
    "        front = rear = 0;\n",
    "        capacity = c;\n",
    "        queue = new int;\n",
    "    }\n",
    "    \n",
    "    ~Queue() { delete[] queue; }\n",
    "    void queueEnqueue(int data);\n",
    "    void queueDequeue();\n",
    "    void queueDisplay();\n",
    "    void queueFront();\n",
    "}"
   ]
  },
  {
   "cell_type": "code",
   "execution_count": 46,
   "id": "through-phone",
   "metadata": {},
   "outputs": [],
   "source": [
    " void Queue::queueEnqueue(int data)\n",
    "    {\n",
    "        if (capacity == rear) {\n",
    "            cout<<\"\\nQueue is full\\n\";\n",
    "            return;\n",
    "        }\n",
    "        else {\n",
    "            queue[rear] = data;\n",
    "            rear++;\n",
    "        }\n",
    "        return;\n",
    "    }"
   ]
  },
  {
   "cell_type": "code",
   "execution_count": 47,
   "id": "binary-empire",
   "metadata": {},
   "outputs": [],
   "source": [
    "void Queue::queueDequeue()\n",
    "    {\n",
    "      \n",
    "        if (front == rear) {\n",
    "            cout<<\"\\nQueue is  empty\\n\";\n",
    "            return;\n",
    "        }\n",
    "  \n",
    "    \n",
    "        else {\n",
    "            for (int i = 0; i < rear - 1; i++) {\n",
    "                queue[i] = queue[i + 1];\n",
    "            }\n",
    "  \n",
    "            // decrement rear\n",
    "            rear--;\n",
    "        }\n",
    "        return;\n",
    "    }\n",
    "  "
   ]
  },
  {
   "cell_type": "code",
   "execution_count": 48,
   "id": "female-founder",
   "metadata": {},
   "outputs": [],
   "source": [
    "void Queue::queueDisplay()\n",
    "    {\n",
    "        int i;\n",
    "        if (front == rear) {\n",
    "            cout<<\"\\nQueue is Empty\\n\";\n",
    "            return;\n",
    "        }\n",
    "  \n",
    "    \n",
    "        for (i = front; i < rear; i++) {\n",
    "          cout<<queue[i]<<\" \";\n",
    "        }\n",
    "        return;\n",
    "    }\n",
    "  "
   ]
  },
  {
   "cell_type": "code",
   "execution_count": 49,
   "id": "radical-yugoslavia",
   "metadata": {},
   "outputs": [],
   "source": [
    "void Queue::queueFront()\n",
    "{\n",
    "    if (front == rear) {\n",
    "        cout<<\"\\nQueue is Empty\\n\";\n",
    "        return;\n",
    "    }\n",
    "    cout<<\"\\nFront Element is: \"<<queue[front];\n",
    "    return;\n",
    "}"
   ]
  },
  {
   "cell_type": "code",
   "execution_count": 53,
   "id": "exterior-leave",
   "metadata": {},
   "outputs": [
    {
     "name": "stdout",
     "output_type": "stream",
     "text": [
      "\n",
      "Queue is Empty\n",
      "20 30 40 50 \n",
      "Queue is full\n",
      "20 30 40 50 \n",
      "Queue after dequeue\n",
      "40 50 \n",
      "Front Element is: 40"
     ]
    }
   ],
   "source": [
    "Queue q(4);\n",
    "q.queueDisplay();\n",
    "\n",
    "\n",
    "q.queueEnqueue(20);\n",
    "q.queueEnqueue(30);\n",
    "q.queueEnqueue(40);\n",
    "q.queueEnqueue(50);\n",
    "\n",
    "\n",
    "q.queueDisplay();\n",
    "\n",
    "\n",
    "q.queueEnqueue(60);\n",
    "\n",
    "\n",
    "q.queueDisplay();\n",
    "cout<<endl;\n",
    "q.queueDequeue();\n",
    "\n",
    "q.queueDequeue();\n",
    "cout<<\"Queue after dequeue\"<<endl;\n",
    "\n",
    "q.queueDisplay();\n",
    "q.queueFront();"
   ]
  },
  {
   "cell_type": "code",
   "execution_count": null,
   "id": "sensitive-magazine",
   "metadata": {},
   "outputs": [],
   "source": []
  }
 ],
 "metadata": {
  "kernelspec": {
   "display_name": "C++17",
   "language": "C++17",
   "name": "xcpp17"
  },
  "language_info": {
   "codemirror_mode": "text/x-c++src",
   "file_extension": ".cpp",
   "mimetype": "text/x-c++src",
   "name": "c++",
   "version": "17"
  }
 },
 "nbformat": 4,
 "nbformat_minor": 5
}
