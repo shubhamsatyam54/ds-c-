{
 "cells": [
  {
   "cell_type": "code",
   "execution_count": 1,
   "id": "clean-executive",
   "metadata": {},
   "outputs": [],
   "source": [
    "class Node{\n",
    "    public:\n",
    "    int data;\n",
    "    Node *prev;\n",
    "    Node *next;\n",
    "    Node(int x){\n",
    "        data=x;\n",
    "        next=NULL;\n",
    "        prev=NULL;\n",
    "    }\n",
    "}"
   ]
  },
  {
   "cell_type": "code",
   "execution_count": 9,
   "id": "communist-carter",
   "metadata": {},
   "outputs": [],
   "source": [
    "Node *head=new Node(1);"
   ]
  },
  {
   "cell_type": "code",
   "execution_count": 3,
   "id": "agreed-solution",
   "metadata": {},
   "outputs": [
    {
     "data": {
      "text/plain": [
       "10"
      ]
     },
     "execution_count": 3,
     "metadata": {},
     "output_type": "execute_result"
    }
   ],
   "source": [
    "head->data"
   ]
  },
  {
   "cell_type": "markdown",
   "id": "utility-cleaner",
   "metadata": {},
   "source": [
    "# insertion"
   ]
  },
  {
   "cell_type": "markdown",
   "id": "ambient-agriculture",
   "metadata": {},
   "source": [
    "##### at the starting"
   ]
  },
  {
   "cell_type": "code",
   "execution_count": 15,
   "id": "coastal-underground",
   "metadata": {},
   "outputs": [],
   "source": [
    "void push(Node *head,int x){\n",
    "    Node *temp=new Node(x);\n",
    "    temp->next=head;\n",
    "    head=temp;\n",
    "}"
   ]
  },
  {
   "cell_type": "code",
   "execution_count": 12,
   "id": "actual-commitment",
   "metadata": {},
   "outputs": [],
   "source": [
    "Node *temp=new Node(7);\n",
    "temp->next=head;\n",
    "head=temp;"
   ]
  },
  {
   "cell_type": "code",
   "execution_count": 16,
   "id": "satellite-society",
   "metadata": {},
   "outputs": [],
   "source": [
    "push(head,3);"
   ]
  },
  {
   "cell_type": "code",
   "execution_count": 17,
   "id": "ruled-surname",
   "metadata": {},
   "outputs": [
    {
     "data": {
      "text/plain": [
       "7"
      ]
     },
     "execution_count": 17,
     "metadata": {},
     "output_type": "execute_result"
    }
   ],
   "source": [
    "head->data"
   ]
  },
  {
   "cell_type": "code",
   "execution_count": 18,
   "id": "narrative-glory",
   "metadata": {},
   "outputs": [
    {
     "data": {
      "text/plain": [
       "1"
      ]
     },
     "execution_count": 18,
     "metadata": {},
     "output_type": "execute_result"
    }
   ],
   "source": [
    "head->next->data"
   ]
  },
  {
   "cell_type": "code",
   "execution_count": 54,
   "id": "australian-compensation",
   "metadata": {},
   "outputs": [],
   "source": [
    "Node *h=new Node(10);"
   ]
  },
  {
   "cell_type": "code",
   "execution_count": 55,
   "id": "unusual-feature",
   "metadata": {},
   "outputs": [
    {
     "data": {
      "text/plain": [
       "10"
      ]
     },
     "execution_count": 55,
     "metadata": {},
     "output_type": "execute_result"
    }
   ],
   "source": [
    "h->data"
   ]
  },
  {
   "cell_type": "code",
   "execution_count": 56,
   "id": "congressional-bearing",
   "metadata": {},
   "outputs": [
    {
     "data": {
      "text/plain": [
       "@0x7fff10223608"
      ]
     },
     "execution_count": 56,
     "metadata": {},
     "output_type": "execute_result"
    }
   ],
   "source": [
    "h"
   ]
  },
  {
   "cell_type": "code",
   "execution_count": 59,
   "id": "photographic-boxing",
   "metadata": {},
   "outputs": [
    {
     "data": {
      "text/plain": [
       "@0x7fff10223608"
      ]
     },
     "execution_count": 59,
     "metadata": {},
     "output_type": "execute_result"
    }
   ],
   "source": [
    "h->next=head"
   ]
  },
  {
   "cell_type": "code",
   "execution_count": 60,
   "id": "musical-richmond",
   "metadata": {},
   "outputs": [
    {
     "data": {
      "text/plain": [
       "10"
      ]
     },
     "execution_count": 60,
     "metadata": {},
     "output_type": "execute_result"
    }
   ],
   "source": [
    "h->data"
   ]
  },
  {
   "cell_type": "code",
   "execution_count": 61,
   "id": "intended-facing",
   "metadata": {},
   "outputs": [
    {
     "data": {
      "text/plain": [
       "5"
      ]
     },
     "execution_count": 61,
     "metadata": {},
     "output_type": "execute_result"
    }
   ],
   "source": [
    "h->next->data"
   ]
  },
  {
   "cell_type": "code",
   "execution_count": null,
   "id": "adult-somewhere",
   "metadata": {},
   "outputs": [],
   "source": []
  }
 ],
 "metadata": {
  "kernelspec": {
   "display_name": "C++17",
   "language": "C++17",
   "name": "xcpp17"
  },
  "language_info": {
   "codemirror_mode": "text/x-c++src",
   "file_extension": ".cpp",
   "mimetype": "text/x-c++src",
   "name": "c++",
   "version": "17"
  }
 },
 "nbformat": 4,
 "nbformat_minor": 5
}
