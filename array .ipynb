{
 "cells": [
  {
   "cell_type": "code",
   "execution_count": 2,
   "id": "enclosed-choir",
   "metadata": {},
   "outputs": [],
   "source": [
    "#include <iostream>\n",
    "#include <string>\n",
    "using namespace std;"
   ]
  },
  {
   "cell_type": "code",
   "execution_count": 3,
   "id": "excited-subscription",
   "metadata": {},
   "outputs": [],
   "source": [
    "int arr[]={10,12,14,22,21};"
   ]
  },
  {
   "cell_type": "code",
   "execution_count": 4,
   "id": "cheap-transportation",
   "metadata": {},
   "outputs": [
    {
     "name": "stderr",
     "output_type": "stream",
     "text": [
      "input_line_11:2:2: warning: array index 6 is past the end of the array (which contains 5 elements) [-Warray-bounds]\n",
      " arr[6]=55;\n",
      " ^   ~\n",
      "input_line_10:2:2: note: array 'arr' declared here\n",
      " int arr[]={10,12,14,22,21};\n",
      " ^\n"
     ]
    }
   ],
   "source": [
    "arr[6]=55;"
   ]
  },
  {
   "cell_type": "markdown",
   "id": "tribal-deadline",
   "metadata": {},
   "source": [
    "##### insering in array"
   ]
  },
  {
   "cell_type": "code",
   "execution_count": 5,
   "id": "northern-divide",
   "metadata": {},
   "outputs": [],
   "source": [
    "int arr[]={10,12,14,22,21};"
   ]
  },
  {
   "cell_type": "code",
   "execution_count": 6,
   "id": "empty-argentina",
   "metadata": {},
   "outputs": [
    {
     "data": {
      "text/plain": [
       "{ 10, 12, 14, 6, 21 }"
      ]
     },
     "execution_count": 6,
     "metadata": {},
     "output_type": "execute_result"
    }
   ],
   "source": [
    "//inserting 6 at index 3\n",
    "int position=3;\n",
    "int element=6;\n",
    "arr[position]=element;\n",
    "arr"
   ]
  },
  {
   "cell_type": "code",
   "execution_count": 7,
   "id": "figured-williams",
   "metadata": {},
   "outputs": [],
   "source": [
    "void insert(int arr[],int size,int index,int element){\n",
    "\n",
    "cout<<\"array before insertion \";    \n",
    "for(int i=0;i<size;i++){\n",
    "    cout<<arr[i]<<\" \";\n",
    "}\n",
    "    \n",
    "    \n",
    "    \n",
    "int temp[size+1];\n",
    "for(int i=0;i<=size;i++){\n",
    "    if(i<index){\n",
    "     temp[i]=arr[i];   \n",
    "    }\n",
    "    else if(i==index){\n",
    "        temp[i]=element;\n",
    "    }\n",
    "    else{\n",
    "        temp[i]=arr[i-1];\n",
    "    }\n",
    "}\n",
    "    cout<<endl<<\"array after insertion \";\n",
    "    for(int i=0;i<=size;i++){\n",
    "  \n",
    "    cout<<temp[i]<<\" \";\n",
    "}\n",
    "    \n",
    "}"
   ]
  },
  {
   "cell_type": "code",
   "execution_count": 8,
   "id": "appropriate-integer",
   "metadata": {},
   "outputs": [
    {
     "name": "stdout",
     "output_type": "stream",
     "text": [
      "array before insertion 10 12 14 22 21 \n",
      "array after insertion 10 12 6 14 22 21 "
     ]
    }
   ],
   "source": [
    "int arr[]={10,12,14,22,21};\n",
    "insert(arr,5,2,6);"
   ]
  },
  {
   "cell_type": "markdown",
   "id": "placed-equivalent",
   "metadata": {},
   "source": [
    "##### deleting an elemt at index 2"
   ]
  },
  {
   "cell_type": "code",
   "execution_count": 9,
   "id": "restricted-brazilian",
   "metadata": {},
   "outputs": [],
   "source": [
    "void del(int arr[],int size,int index){\n",
    "cout<<\"array before insertion \";    \n",
    "for(int i=0;i<size;i++){\n",
    "    cout<<arr[i]<<\" \";\n",
    "}\n",
    "for(int i=index;i<size;i++){\n",
    "    arr[i]=arr[i+1];\n",
    "}\n",
    "arr[size-1]=0; \n",
    "cout<<endl<<\"array after deletion \";    \n",
    "for(int i=0;i<size;i++){\n",
    "    cout<<arr[i]<<\" \";\n",
    "}\n",
    "    \n",
    "}"
   ]
  },
  {
   "cell_type": "code",
   "execution_count": 10,
   "id": "injured-missile",
   "metadata": {},
   "outputs": [
    {
     "name": "stdout",
     "output_type": "stream",
     "text": [
      "array before insertion 10 12 14 22 21 \n",
      "array after deletion 10 12 14 21 0 "
     ]
    }
   ],
   "source": [
    "int arr[]={10,12,14,22,21};\n",
    "del(arr,5,3)"
   ]
  },
  {
   "cell_type": "code",
   "execution_count": null,
   "id": "wanted-special",
   "metadata": {},
   "outputs": [],
   "source": []
  }
 ],
 "metadata": {
  "kernelspec": {
   "display_name": "C++17",
   "language": "C++17",
   "name": "xcpp17"
  },
  "language_info": {
   "codemirror_mode": "text/x-c++src",
   "file_extension": ".cpp",
   "mimetype": "text/x-c++src",
   "name": "c++",
   "version": "17"
  }
 },
 "nbformat": 4,
 "nbformat_minor": 5
}
