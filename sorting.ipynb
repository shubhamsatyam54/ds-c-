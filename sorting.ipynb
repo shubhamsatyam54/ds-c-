{
 "cells": [
  {
   "cell_type": "code",
   "execution_count": 2,
   "id": "raised-redhead",
   "metadata": {},
   "outputs": [],
   "source": [
    "#include <iostream>\n",
    "#include <string>\n",
    "using namespace std;"
   ]
  },
  {
   "cell_type": "markdown",
   "id": "loved-campus",
   "metadata": {},
   "source": [
    "# bubble sort"
   ]
  },
  {
   "cell_type": "code",
   "execution_count": 2,
   "id": "egyptian-fiction",
   "metadata": {},
   "outputs": [],
   "source": [
    "void sort(int arr[],int size){\n",
    "    cout<<\"UNSORTED ARRAY : \";\n",
    "    for(int i=0;i<size;i++){\n",
    "    cout<<arr[i]<<\" \";\n",
    "}\n",
    "     cout<<endl;\n",
    "    \n",
    "bool state = false;\n",
    "for(int i=0;i<size-1;i++){\n",
    "    for(int j=0;j<size-1;j++){\n",
    "        if(arr[j]>arr[j+1]){ \n",
    "            int temp=arr[j];\n",
    "            arr[j]=arr[j+1];\n",
    "            arr[j+1]=temp;\n",
    "            state=true;\n",
    "        }\n",
    "    }\n",
    "    if (state==false){\n",
    "            break;\n",
    "        }\n",
    "    else{\n",
    "        cout<<\"STEP \"<<i+1<<endl;\n",
    "         for(int k=0;k<size;k++){\n",
    "             \n",
    "           cout<<arr[k]<<\" \";\n",
    "    }\n",
    "        cout<<endl;\n",
    "        state=false;\n",
    "}\n",
    "    \n",
    "}\n",
    "    \n",
    "    \n",
    "    cout<<\"SORTED ARRAY : \";\n",
    "    for(int i=0;i<size;i++){\n",
    "    cout<<arr[i]<<\" \";\n",
    "}\n",
    "    \n",
    "}"
   ]
  },
  {
   "cell_type": "code",
   "execution_count": 3,
   "id": "national-distance",
   "metadata": {},
   "outputs": [
    {
     "name": "stdout",
     "output_type": "stream",
     "text": [
      "UNSORTED ARRAY : 64 34 25 12 22 \n",
      "STEP 1\n",
      "34 25 12 22 64 \n",
      "STEP 2\n",
      "25 12 22 34 64 \n",
      "STEP 3\n",
      "12 22 25 34 64 \n",
      "SORTED ARRAY : 12 22 25 34 64 "
     ]
    }
   ],
   "source": [
    "int arr[]={64, 34, 25, 12, 22, 11, 90};\n",
    "sort(arr,5);"
   ]
  },
  {
   "cell_type": "markdown",
   "id": "framed-scanner",
   "metadata": {},
   "source": [
    "# insertion sort"
   ]
  },
  {
   "cell_type": "code",
   "execution_count": 4,
   "id": "suffering-desire",
   "metadata": {},
   "outputs": [],
   "source": [
    "void ins_sort(int arr[],int size){\n",
    "    cout<<\"UNSORTED ARRAY : \";\n",
    "    for(int i=0;i<size;i++){\n",
    "    cout<<arr[i]<<\" \";\n",
    "}\n",
    "     cout<<endl;\n",
    "    for(int i=1;i<size;i++){\n",
    "        int temp=arr[i];\n",
    "        int j;\n",
    "    for(j=i-1;arr[j]>temp && j>=0;j--){\n",
    "        \n",
    "        arr[j+1]=arr[j];     \n",
    "    }\n",
    "        arr[j+1]=temp;\n",
    "        \n",
    "        cout<<\"STEP \"<<i<<endl;\n",
    "         for(int k=0;k<size;k++){\n",
    "             \n",
    "           cout<<arr[k]<<\" \";\n",
    "    }\n",
    "        cout<<endl;\n",
    "        \n",
    "    }\n",
    "    \n",
    "    \n",
    "    \n",
    "     cout<<\"SORTED ARRAY : \";\n",
    "    for(int i=0;i<size;i++){\n",
    "    cout<<arr[i]<<\" \";\n",
    "}    \n",
    "}"
   ]
  },
  {
   "cell_type": "code",
   "execution_count": 5,
   "id": "super-treasure",
   "metadata": {
    "scrolled": true
   },
   "outputs": [
    {
     "name": "stdout",
     "output_type": "stream",
     "text": [
      "UNSORTED ARRAY : 4 3 2 10 12 1 5 6 \n",
      "STEP 1\n",
      "3 4 2 10 12 1 5 6 \n",
      "STEP 2\n",
      "2 3 4 10 12 1 5 6 \n",
      "STEP 3\n",
      "2 3 4 10 12 1 5 6 \n",
      "STEP 4\n",
      "2 3 4 10 12 1 5 6 \n",
      "STEP 5\n",
      "1 2 3 4 10 12 5 6 \n",
      "STEP 6\n",
      "1 2 3 4 5 10 12 6 \n",
      "STEP 7\n",
      "1 2 3 4 5 6 10 12 \n",
      "SORTED ARRAY : 1 2 3 4 5 6 10 12 "
     ]
    }
   ],
   "source": [
    "int arr[]={4,3,2,10,12,1,5,6};\n",
    "ins_sort(arr,8);"
   ]
  },
  {
   "cell_type": "markdown",
   "id": "hungry-silly",
   "metadata": {},
   "source": [
    "# selection sort"
   ]
  },
  {
   "cell_type": "code",
   "execution_count": 23,
   "id": "crazy-carter",
   "metadata": {},
   "outputs": [],
   "source": [
    "void sel_sort(int arr[],int size){\n",
    "    cout<<\"UNSORTED ARRAY : \";\n",
    "    for(int i=0;i<size;i++){\n",
    "    cout<<arr[i]<<\" \";\n",
    "}\n",
    "     cout<<endl;\n",
    "    for(int i=0;i<size;i++){\n",
    "        int indx=i;\n",
    "        int min=arr[i];\n",
    "        cout<<min<<endl;\n",
    "        int j;\n",
    "    for(j=i;j<size;j++){\n",
    "        if(arr[j]<min){\n",
    "            indx=j;\n",
    "        }   \n",
    "    }\n",
    "        cout<<\"b\"<<indx<<endl;\n",
    "        int temp=arr[indx];\n",
    "        arr[indx]=arr[i];\n",
    "        arr[i]=temp;\n",
    "         cout<<\"STEP \"<<i<<endl;\n",
    "         for(int k=0;k<size;k++){   \n",
    "           cout<<arr[k]<<\" \";\n",
    "    }\n",
    "        cout<<endl;\n",
    "    }\n",
    "    \n",
    "    cout<<\"SORTED ARRAY : \";\n",
    "    for(int i=0;i<size;i++){\n",
    "    cout<<arr[i]<<\" \";\n",
    "}\n",
    "}"
   ]
  },
  {
   "cell_type": "code",
   "execution_count": 22,
   "id": "political-howard",
   "metadata": {},
   "outputs": [
    {
     "name": "stdout",
     "output_type": "stream",
     "text": [
      "UNSORTED ARRAY : 64 25 2 5 22 11 \n",
      "64\n",
      "b5\n",
      "STEP 0\n",
      "11 25 2 5 22 64 \n",
      "25\n",
      "b4\n",
      "STEP 1\n",
      "11 22 2 5 25 64 \n",
      "2\n",
      "b2\n",
      "STEP 2\n",
      "11 22 2 5 25 64 \n",
      "5\n",
      "b3\n",
      "STEP 3\n",
      "11 22 2 5 25 64 \n",
      "25\n",
      "b4\n",
      "STEP 4\n",
      "11 22 2 5 25 64 \n",
      "64\n",
      "b5\n",
      "STEP 5\n",
      "11 22 2 5 25 64 \n",
      "SORTED ARRAY : 11 22 2 5 25 64 "
     ]
    }
   ],
   "source": [
    "int arr[]={64,25,2,5,22,11};\n",
    "sel_sort(arr,6);"
   ]
  },
  {
   "cell_type": "code",
   "execution_count": null,
   "id": "revised-theta",
   "metadata": {},
   "outputs": [],
   "source": []
  }
 ],
 "metadata": {
  "kernelspec": {
   "display_name": "C++17",
   "language": "C++17",
   "name": "xcpp17"
  },
  "language_info": {
   "codemirror_mode": "text/x-c++src",
   "file_extension": ".cpp",
   "mimetype": "text/x-c++src",
   "name": "c++",
   "version": "17"
  }
 },
 "nbformat": 4,
 "nbformat_minor": 5
}
